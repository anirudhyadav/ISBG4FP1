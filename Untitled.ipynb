{
 "cells": [
  {
   "cell_type": "code",
   "execution_count": 1,
   "id": "1108bdea-a039-449f-8b5a-403d109d9097",
   "metadata": {},
   "outputs": [
    {
     "ename": "ModuleNotFoundError",
     "evalue": "No module named 'linkedin_scraper'",
     "output_type": "error",
     "traceback": [
      "\u001b[0;31m---------------------------------------------------------------------------\u001b[0m",
      "\u001b[0;31mModuleNotFoundError\u001b[0m                       Traceback (most recent call last)",
      "Cell \u001b[0;32mIn[1], line 2\u001b[0m\n\u001b[1;32m      1\u001b[0m \u001b[38;5;28;01mimport\u001b[39;00m \u001b[38;5;21;01mos\u001b[39;00m\n\u001b[0;32m----> 2\u001b[0m \u001b[38;5;28;01mfrom\u001b[39;00m \u001b[38;5;21;01mlinkedin_scraper\u001b[39;00m \u001b[38;5;28;01mimport\u001b[39;00m Person, actions\n\u001b[1;32m      3\u001b[0m \u001b[38;5;28;01mfrom\u001b[39;00m \u001b[38;5;21;01mselenium\u001b[39;00m \u001b[38;5;28;01mimport\u001b[39;00m webdriver\n\u001b[1;32m      4\u001b[0m \u001b[38;5;28;01mfrom\u001b[39;00m \u001b[38;5;21;01mselenium\u001b[39;00m\u001b[38;5;21;01m.\u001b[39;00m\u001b[38;5;21;01mwebdriver\u001b[39;00m\u001b[38;5;21;01m.\u001b[39;00m\u001b[38;5;21;01mchrome\u001b[39;00m\u001b[38;5;21;01m.\u001b[39;00m\u001b[38;5;21;01moptions\u001b[39;00m \u001b[38;5;28;01mimport\u001b[39;00m Options\n",
      "\u001b[0;31mModuleNotFoundError\u001b[0m: No module named 'linkedin_scraper'"
     ]
    }
   ],
   "source": [
    "import os\n",
    "from linkedin_scraper import Person, actions\n",
    "from selenium import webdriver\n",
    "from selenium.webdriver.chrome.options import Options\n",
    "\n",
    "chrome_options = Options()\n",
    "chrome_options.add_argument(\"--headless\")\n",
    "driver = webdriver.Chrome(\"./chromedriver\", options=chrome_options)\n",
    "\n",
    "email = os.getenv(\"anirudhyadav@gmail.com\")\n",
    "password = os.getenv(\"TanuAnu@1\")\n",
    "actions.login(driver, email, password) # if email and password isnt given, it'll prompt in terminal\n",
    "person = Person(\"https://www.linkedin.com/in/adrian0350\", contacts=[], driver=driver)\n",
    "\n",
    "print(\"Person: \" + person.name)\n",
    "print(\"Person contacts: \")\n",
    "\n",
    "for contact in person.contacts:\n",
    "\tprint(\"Contact: \" + contact.name + \" - \" + contact.occupation + \" -> \" + contact.url)"
   ]
  },
  {
   "cell_type": "code",
   "execution_count": null,
   "id": "c1a58d01-5cd4-4dc9-8e18-b4351d18c0ae",
   "metadata": {},
   "outputs": [],
   "source": []
  }
 ],
 "metadata": {
  "kernelspec": {
   "display_name": "Python 3",
   "language": "python",
   "name": "python3"
  },
  "language_info": {
   "codemirror_mode": {
    "name": "ipython",
    "version": 3
   },
   "file_extension": ".py",
   "mimetype": "text/x-python",
   "name": "python",
   "nbconvert_exporter": "python",
   "pygments_lexer": "ipython3",
   "version": "3.9.18"
  }
 },
 "nbformat": 4,
 "nbformat_minor": 5
}
