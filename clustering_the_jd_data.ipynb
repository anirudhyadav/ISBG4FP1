{
 "cells": [
  {
   "cell_type": "code",
   "execution_count": 2,
   "metadata": {},
   "outputs": [],
   "source": [
    "# Importing required libraries\n",
    "import pandas as pd\n",
    "from sklearn.feature_extraction.text import TfidfVectorizer\n",
    "from sklearn.cluster import KMeans\n"
   ]
  },
  {
   "cell_type": "code",
   "execution_count": 3,
   "metadata": {},
   "outputs": [
    {
     "data": {
      "text/html": [
       "<div>\n",
       "<style scoped>\n",
       "    .dataframe tbody tr th:only-of-type {\n",
       "        vertical-align: middle;\n",
       "    }\n",
       "\n",
       "    .dataframe tbody tr th {\n",
       "        vertical-align: top;\n",
       "    }\n",
       "\n",
       "    .dataframe thead th {\n",
       "        text-align: right;\n",
       "    }\n",
       "</style>\n",
       "<table border=\"1\" class=\"dataframe\">\n",
       "  <thead>\n",
       "    <tr style=\"text-align: right;\">\n",
       "      <th></th>\n",
       "      <th>profile</th>\n",
       "      <th>tech_stack</th>\n",
       "      <th>tobeclusteredcolumn</th>\n",
       "    </tr>\n",
       "  </thead>\n",
       "  <tbody>\n",
       "    <tr>\n",
       "      <th>0</th>\n",
       "      <td>DS</td>\n",
       "      <td>[Team management, Prototype, Database design, ...</td>\n",
       "      <td>DS [Team management, Prototype, Database desig...</td>\n",
       "    </tr>\n",
       "    <tr>\n",
       "      <th>1</th>\n",
       "      <td>DS</td>\n",
       "      <td>[Computer science, Training, Web technologies,...</td>\n",
       "      <td>DS [Computer science, Training, Web technologi...</td>\n",
       "    </tr>\n",
       "    <tr>\n",
       "      <th>2</th>\n",
       "      <td>DS</td>\n",
       "      <td>[deep learning, Statistical analysis, data sci...</td>\n",
       "      <td>DS [deep learning, Statistical analysis, data ...</td>\n",
       "    </tr>\n",
       "    <tr>\n",
       "      <th>3</th>\n",
       "      <td>DS</td>\n",
       "      <td>[RCA, Software design, Version control, Coding...</td>\n",
       "      <td>DS [RCA, Software design, Version control, Cod...</td>\n",
       "    </tr>\n",
       "    <tr>\n",
       "      <th>4</th>\n",
       "      <td>DS</td>\n",
       "      <td>[Data Science, Python, Machine Learning, Model...</td>\n",
       "      <td>DS [Data Science, Python, Machine Learning, Mo...</td>\n",
       "    </tr>\n",
       "  </tbody>\n",
       "</table>\n",
       "</div>"
      ],
      "text/plain": [
       "  profile                                         tech_stack  \\\n",
       "0      DS  [Team management, Prototype, Database design, ...   \n",
       "1      DS  [Computer science, Training, Web technologies,...   \n",
       "2      DS  [deep learning, Statistical analysis, data sci...   \n",
       "3      DS  [RCA, Software design, Version control, Coding...   \n",
       "4      DS  [Data Science, Python, Machine Learning, Model...   \n",
       "\n",
       "                                 tobeclusteredcolumn  \n",
       "0  DS [Team management, Prototype, Database desig...  \n",
       "1  DS [Computer science, Training, Web technologi...  \n",
       "2  DS [deep learning, Statistical analysis, data ...  \n",
       "3  DS [RCA, Software design, Version control, Cod...  \n",
       "4  DS [Data Science, Python, Machine Learning, Mo...  "
      ]
     },
     "execution_count": 3,
     "metadata": {},
     "output_type": "execute_result"
    }
   ],
   "source": [
    "# Reading the CSV file back to memory\n",
    "clustered_dataset = pd.read_csv('jd_data_for_clustering.csv')\n",
    "clustered_dataset.head(5)"
   ]
  },
  {
   "cell_type": "code",
   "execution_count": 8,
   "metadata": {},
   "outputs": [],
   "source": [
    "# Creating a image from base dataframe for further use\n",
    "transformed_df = clustered_dataset"
   ]
  },
  {
   "cell_type": "code",
   "execution_count": 10,
   "metadata": {},
   "outputs": [
    {
     "name": "stderr",
     "output_type": "stream",
     "text": [
      "/Users/anirudhyadav/anaconda3/envs/isb_core_ml/lib/python3.9/site-packages/sklearn/cluster/_kmeans.py:1412: FutureWarning: The default value of `n_init` will change from 10 to 'auto' in 1.4. Set the value of `n_init` explicitly to suppress the warning\n",
      "  super()._check_params_vs_input(X, default_n_init=10)\n"
     ]
    },
    {
     "name": "stdout",
     "output_type": "stream",
     "text": [
      "     profile                                         tech_stack  \\\n",
      "0         DS  [Team management, Prototype, Database design, ...   \n",
      "1         DS  [Computer science, Training, Web technologies,...   \n",
      "2         DS  [deep learning, Statistical analysis, data sci...   \n",
      "3         DS  [RCA, Software design, Version control, Coding...   \n",
      "4         DS  [Data Science, Python, Machine Learning, Model...   \n",
      "...      ...                                                ...   \n",
      "4094    JAVA  [Java, MySQL, Spring Boot, Microservices, Deve...   \n",
      "4095    JAVA  [Java Spring Boot, Jwt, Redis, Spring Boot, SQ...   \n",
      "4096    JAVA  [Java, MySQL, Spring Boot, Microservices, Desi...   \n",
      "4097    JAVA  [Core Java, Design Patterns, Spring Boot, Micr...   \n",
      "4098    JAVA  [Java, MVC Framework, Spring Boot, Fullstack D...   \n",
      "\n",
      "                                    tobeclusteredcolumn  cluster  \n",
      "0     DS [Team management, Prototype, Database desig...        1  \n",
      "1     DS [Computer science, Training, Web technologi...        1  \n",
      "2     DS [deep learning, Statistical analysis, data ...        1  \n",
      "3     DS [RCA, Software design, Version control, Cod...        1  \n",
      "4     DS [Data Science, Python, Machine Learning, Mo...        1  \n",
      "...                                                 ...      ...  \n",
      "4094  JAVA [Java, MySQL, Spring Boot, Microservices,...        2  \n",
      "4095  JAVA [Java Spring Boot, Jwt, Redis, Spring Boo...        2  \n",
      "4096  JAVA [Java, MySQL, Spring Boot, Microservices,...        2  \n",
      "4097  JAVA [Core Java, Design Patterns, Spring Boot,...        2  \n",
      "4098  JAVA [Java, MVC Framework, Spring Boot, Fullst...        2  \n",
      "\n",
      "[4099 rows x 4 columns]\n"
     ]
    }
   ],
   "source": [
    "# Assuming your DataFrame is named 'df'\n",
    "# You can read it from your CSV file or use the provided DataFrame\n",
    "\n",
    "# Create a TF-IDF vectorizer\n",
    "vectorizer = TfidfVectorizer()\n",
    "\n",
    "# Transform the 'tobeclusteredcolumn' column into a TF-IDF matrix\n",
    "tfidf_matrix = vectorizer.fit_transform(transformed_df['tobeclusteredcolumn'])\n",
    "\n",
    "# Get the number of unique profiles\n",
    "n_clusters = len(transformed_df['profile'].unique())\n",
    "\n",
    "# Perform K-Means clustering with the specified number of clusters\n",
    "kmeans = KMeans(n_clusters=n_clusters, random_state=42)\n",
    "transformed_df['cluster'] = kmeans.fit_predict(tfidf_matrix)\n",
    "\n",
    "# Display the DataFrame with the assigned clusters\n",
    "print(transformed_df)\n"
   ]
  },
  {
   "cell_type": "code",
   "execution_count": 12,
   "metadata": {},
   "outputs": [
    {
     "name": "stdout",
     "output_type": "stream",
     "text": [
      "                 tech_stack  tobeclusteredcolumn\n",
      "profile cluster                                 \n",
      "DB      0              1063                 1063\n",
      "        1                20                   20\n",
      "        2                 1                    1\n",
      "        3               156                  156\n",
      "DO      0                 2                    2\n",
      "        1                 4                    4\n",
      "        2                 1                    1\n",
      "        3               913                  913\n",
      "DS      0                 1                    1\n",
      "        1               659                  659\n",
      "        3                40                   40\n",
      "JAVA    0                 3                    3\n",
      "        1                 4                    4\n",
      "        2              1024                 1024\n",
      "        3               208                  208\n"
     ]
    }
   ],
   "source": [
    "# Validate number of clusters\n",
    "print(transformed_df.groupby(['profile','cluster']).count())\n",
    "# Writing the clustered dataset to local\n",
    "# transformed_df.to_csv('clustereddataset.csv',index=False)"
   ]
  },
  {
   "cell_type": "code",
   "execution_count": 14,
   "metadata": {},
   "outputs": [
    {
     "name": "stdout",
     "output_type": "stream",
     "text": [
      "                 tech_stack  tobeclusteredcolumn\n",
      "profile cluster                                 \n",
      "DB      0              1063                 1063\n",
      "        1                20                   20\n",
      "        2                 1                    1\n",
      "        3               156                  156\n",
      "DO      0                 2                    2\n",
      "        1                 4                    4\n",
      "        2                 1                    1\n",
      "        3               913                  913\n",
      "DS      0                 1                    1\n",
      "        1               659                  659\n",
      "        3                40                   40\n",
      "JAVA    0                 3                    3\n",
      "        1                 4                    4\n",
      "        2              1024                 1024\n",
      "        3               208                  208\n"
     ]
    }
   ],
   "source": [
    "# Validate number of clusters\n",
    "print(transformed_df.groupby(['profile','cluster']).count())\n",
    "# Writing the clustered dataset to local\n",
    "transformed_df.to_csv('clustereddataset_from_kmeans.csv',index=False)"
   ]
  },
  {
   "cell_type": "code",
   "execution_count": 16,
   "metadata": {},
   "outputs": [
    {
     "data": {
      "text/html": [
       "<div>\n",
       "<style scoped>\n",
       "    .dataframe tbody tr th:only-of-type {\n",
       "        vertical-align: middle;\n",
       "    }\n",
       "\n",
       "    .dataframe tbody tr th {\n",
       "        vertical-align: top;\n",
       "    }\n",
       "\n",
       "    .dataframe thead th {\n",
       "        text-align: right;\n",
       "    }\n",
       "</style>\n",
       "<table border=\"1\" class=\"dataframe\">\n",
       "  <thead>\n",
       "    <tr style=\"text-align: right;\">\n",
       "      <th></th>\n",
       "      <th>Profile</th>\n",
       "      <th>tech_stack</th>\n",
       "    </tr>\n",
       "  </thead>\n",
       "  <tbody>\n",
       "    <tr>\n",
       "      <th>0</th>\n",
       "      <td>Ramkumar DO</td>\n",
       "      <td>['Automation', 'Azure Cloud', 'Cicd Pipeline',...</td>\n",
       "    </tr>\n",
       "    <tr>\n",
       "      <th>1</th>\n",
       "      <td>Kamal DO</td>\n",
       "      <td>['DevOps', 'VMware', 'Nginx', 'JBoss', 'Config...</td>\n",
       "    </tr>\n",
       "    <tr>\n",
       "      <th>2</th>\n",
       "      <td>Anirudh Yadav DS</td>\n",
       "      <td>['Machine learning', 'Python', 'NLP', 'Analyti...</td>\n",
       "    </tr>\n",
       "    <tr>\n",
       "      <th>3</th>\n",
       "      <td>Sumit Mujumdar DS</td>\n",
       "      <td>['Machine learning', 'Python', 'NLP', 'Analyti...</td>\n",
       "    </tr>\n",
       "    <tr>\n",
       "      <th>4</th>\n",
       "      <td>Prem Java</td>\n",
       "      <td>['Java', 'Hibernate', 'Spring Boot']</td>\n",
       "    </tr>\n",
       "    <tr>\n",
       "      <th>5</th>\n",
       "      <td>Gaurav Java</td>\n",
       "      <td>['Hibernate', 'Front end', 'Agile', 'J2Ee', 'H...</td>\n",
       "    </tr>\n",
       "    <tr>\n",
       "      <th>6</th>\n",
       "      <td>Anurag Java</td>\n",
       "      <td>['Java', 'Fullstack Development', 'Servlets / ...</td>\n",
       "    </tr>\n",
       "    <tr>\n",
       "      <th>7</th>\n",
       "      <td>Ravindra DB</td>\n",
       "      <td>['Ops', 'Mongodb Dba', 'Mongo Ops Manager', 'D...</td>\n",
       "    </tr>\n",
       "    <tr>\n",
       "      <th>8</th>\n",
       "      <td>Shamsh DB</td>\n",
       "      <td>['Smart scan', 'Query Optimization', 'Root Cau...</td>\n",
       "    </tr>\n",
       "    <tr>\n",
       "      <th>9</th>\n",
       "      <td>Anil DB</td>\n",
       "      <td>['Database Administration', 'SQL Server', 'Uni...</td>\n",
       "    </tr>\n",
       "  </tbody>\n",
       "</table>\n",
       "</div>"
      ],
      "text/plain": [
       "             Profile                                         tech_stack\n",
       "0        Ramkumar DO  ['Automation', 'Azure Cloud', 'Cicd Pipeline',...\n",
       "1           Kamal DO  ['DevOps', 'VMware', 'Nginx', 'JBoss', 'Config...\n",
       "2   Anirudh Yadav DS  ['Machine learning', 'Python', 'NLP', 'Analyti...\n",
       "3  Sumit Mujumdar DS  ['Machine learning', 'Python', 'NLP', 'Analyti...\n",
       "4          Prem Java               ['Java', 'Hibernate', 'Spring Boot']\n",
       "5        Gaurav Java  ['Hibernate', 'Front end', 'Agile', 'J2Ee', 'H...\n",
       "6        Anurag Java  ['Java', 'Fullstack Development', 'Servlets / ...\n",
       "7        Ravindra DB  ['Ops', 'Mongodb Dba', 'Mongo Ops Manager', 'D...\n",
       "8          Shamsh DB  ['Smart scan', 'Query Optimization', 'Root Cau...\n",
       "9            Anil DB  ['Database Administration', 'SQL Server', 'Uni..."
      ]
     },
     "execution_count": 16,
     "metadata": {},
     "output_type": "execute_result"
    }
   ],
   "source": [
    "# This validator part\n",
    "resumedata = pd.read_csv('ResumeValidator-ResumeData.csv')\n",
    "resumedata"
   ]
  },
  {
   "cell_type": "code",
   "execution_count": 17,
   "metadata": {},
   "outputs": [
    {
     "name": "stdout",
     "output_type": "stream",
     "text": [
      "             Profile                                         tech_stack  \\\n",
      "0        Ramkumar DO  ['Automation', 'Azure Cloud', 'Cicd Pipeline',...   \n",
      "1           Kamal DO  ['DevOps', 'VMware', 'Nginx', 'JBoss', 'Config...   \n",
      "2   Anirudh Yadav DS  ['Machine learning', 'Python', 'NLP', 'Analyti...   \n",
      "3  Sumit Mujumdar DS  ['Machine learning', 'Python', 'NLP', 'Analyti...   \n",
      "4          Prem Java               ['Java', 'Hibernate', 'Spring Boot']   \n",
      "5        Gaurav Java  ['Hibernate', 'Front end', 'Agile', 'J2Ee', 'H...   \n",
      "6        Anurag Java  ['Java', 'Fullstack Development', 'Servlets / ...   \n",
      "7        Ravindra DB  ['Ops', 'Mongodb Dba', 'Mongo Ops Manager', 'D...   \n",
      "8          Shamsh DB  ['Smart scan', 'Query Optimization', 'Root Cau...   \n",
      "9            Anil DB  ['Database Administration', 'SQL Server', 'Uni...   \n",
      "\n",
      "   predicted_cluster  \n",
      "0                  3  \n",
      "1                  3  \n",
      "2                  1  \n",
      "3                  1  \n",
      "4                  2  \n",
      "5                  3  \n",
      "6                  2  \n",
      "7                  0  \n",
      "8                  0  \n",
      "9                  0  \n"
     ]
    }
   ],
   "source": [
    "# # Transform the 'tech_stack' column into a TF-IDF matrix\n",
    "# tfidf_matrix = vectorizer.fit_transform(resumedata['tech_stack'])\n",
    "\n",
    "# Transform the 'tech_stack' column into a TF-IDF matrix for new input data\n",
    "new_tfidf_matrix = vectorizer.transform(resumedata['tech_stack'])\n",
    "\n",
    "# Predict the cluster for the new input data using the trained K-Means model\n",
    "resumedata['predicted_cluster'] = kmeans.predict(new_tfidf_matrix)\n",
    "\n",
    "# Display the new input data with predicted clusters\n",
    "print(resumedata)\n",
    "\n",
    "resumedata.to_csv('newlogicoutput.csv')"
   ]
  },
  {
   "cell_type": "code",
   "execution_count": null,
   "metadata": {},
   "outputs": [],
   "source": []
  }
 ],
 "metadata": {
  "kernelspec": {
   "display_name": "Python 3 (ipykernel)",
   "language": "python",
   "name": "python3"
  },
  "language_info": {
   "codemirror_mode": {
    "name": "ipython",
    "version": 3
   },
   "file_extension": ".py",
   "mimetype": "text/x-python",
   "name": "python",
   "nbconvert_exporter": "python",
   "pygments_lexer": "ipython3",
   "version": "3.9.15"
  }
 },
 "nbformat": 4,
 "nbformat_minor": 4
}
