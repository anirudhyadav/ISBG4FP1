{
 "cells": [
  {
   "cell_type": "code",
   "execution_count": 1,
   "id": "15f0b833-4958-465b-8f6f-2b2042a898b2",
   "metadata": {},
   "outputs": [],
   "source": [
    "import pandas as pd\n",
    "from pymongo import MongoClient"
   ]
  },
  {
   "cell_type": "markdown",
   "id": "fff9f4ce-7e7b-4d03-a38c-f482f7e2c8af",
   "metadata": {},
   "source": [
    "*****************\n",
    "Writing to JD Data to the mongodb\n",
    "*****************"
   ]
  },
  {
   "cell_type": "code",
   "execution_count": 3,
   "id": "fb5b60bf-6716-4ebb-a9c5-95a8b5c26a68",
   "metadata": {},
   "outputs": [],
   "source": [
    "# Assuming df is your DataFrame\n",
    "techstack_list_JD_w = pd.read_csv('jd_data_for_clustering.csv')\n",
    "\n",
    "# Convert the DataFrame to a dictionary\n",
    "data_dict = techstack_list_JD_w.to_dict(orient='records')\n",
    "# print(data_dict)\n",
    "# # Set up connection to MongoDB\n",
    "client = MongoClient('mongodb://localhost:27017/')  # Replace with your MongoDB connection string\n",
    "db = client['FP1']  # Replace with your database name\n",
    "collection = db['JDDATA']  # Replace with your collection name\n",
    "\n",
    "# # Insert the data into MongoDB\n",
    "collection.insert_many(data_dict)\n",
    "\n",
    "# # Close the MongoDB connection\n",
    "client.close()"
   ]
  },
  {
   "cell_type": "code",
   "execution_count": null,
   "id": "2fdcef78",
   "metadata": {},
   "outputs": [],
   "source": []
  }
 ],
 "metadata": {
  "kernelspec": {
   "display_name": "Python 3",
   "language": "python",
   "name": "python3"
  },
  "language_info": {
   "codemirror_mode": {
    "name": "ipython",
    "version": 3
   },
   "file_extension": ".py",
   "mimetype": "text/x-python",
   "name": "python",
   "nbconvert_exporter": "python",
   "pygments_lexer": "ipython3",
   "version": "3.9.15"
  }
 },
 "nbformat": 4,
 "nbformat_minor": 5
}
