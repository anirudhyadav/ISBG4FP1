{
 "cells": [
  {
   "cell_type": "code",
   "execution_count": 1,
   "id": "15f0b833-4958-465b-8f6f-2b2042a898b2",
   "metadata": {},
   "outputs": [],
   "source": [
    "import pandas as pd\n",
    "from pymongo import MongoClient"
   ]
  },
  {
   "cell_type": "markdown",
   "id": "fff9f4ce-7e7b-4d03-a38c-f482f7e2c8af",
   "metadata": {},
   "source": [
    "*****************\n",
    "Writing to JD Data to the mongodb\n",
    "*****************"
   ]
  },
  {
   "cell_type": "code",
   "execution_count": 3,
   "id": "fb5b60bf-6716-4ebb-a9c5-95a8b5c26a68",
   "metadata": {},
   "outputs": [],
   "source": [
    "# Assuming df is your DataFrame\n",
    "techstack_list_JD_w = pd.read_csv('jd_data_for_clustering.csv')\n",
    "\n",
    "# Convert the DataFrame to a dictionary\n",
    "data_dict = techstack_list_JD_w.to_dict(orient='records')\n",
    "# print(data_dict)\n",
    "# # Set up connection to MongoDB\n",
    "client = MongoClient('mongodb://localhost:27017/')  # Replace with your MongoDB connection string\n",
    "db = client['FP1']  # Replace with your database name\n",
    "collection = db['JDDATA']  # Replace with your collection name\n",
    "\n",
    "# # Insert the data into MongoDB\n",
    "collection.insert_many(data_dict)\n",
    "\n",
    "# # Close the MongoDB connection\n",
    "client.close()"
   ]
  },
  {
   "cell_type": "markdown",
   "id": "0c678fac",
   "metadata": {},
   "source": [
    "*****************\n",
    "Writing resumes to the MongoDb\n",
    "*****************"
   ]
  },
  {
   "cell_type": "code",
   "execution_count": 8,
   "id": "2fdcef78",
   "metadata": {},
   "outputs": [
    {
     "name": "stdout",
     "output_type": "stream",
     "text": [
      "Document inserted with ObjectId: 65a033a83e6c84c8aa19efd1\n"
     ]
    }
   ],
   "source": [
    "from docx import Document\n",
    "from pymongo import MongoClient\n",
    "\n",
    "def read_word_document(file_path):\n",
    "    doc = Document('Anirudh Singh Yadav.docx')\n",
    "    content = []\n",
    "\n",
    "    for paragraph in doc.paragraphs:\n",
    "        content.append(paragraph.text)\n",
    "\n",
    "    return \"\\n\".join(content)\n",
    "\n",
    "def store_in_mongodb(content, collection_name='word_documents'):\n",
    "    client = MongoClient('mongodb://localhost:27017/')  # Update the MongoDB connection string as needed\n",
    "    db = client['FP1']  # Change 'your_database_name' to your actual database name\n",
    "    collection = db['RESUMECOLLECTION']\n",
    "\n",
    "    document_data = {\n",
    "        'content': content,\n",
    "    }\n",
    "\n",
    "    result = collection.insert_one(document_data)\n",
    "    print(f\"Document inserted with ObjectId: {result.inserted_id}\")\n",
    "\n",
    "if __name__ == \"__main__\":\n",
    "    # Specify the path to your Word document\n",
    "    word_document_path = 'Anirudh Singh Yadav.docx'\n",
    "\n",
    "    # Read the Word document content\n",
    "    document_content = read_word_document(word_document_path)\n",
    "\n",
    "    # Store the content in MongoDB\n",
    "    store_in_mongodb(document_content)\n"
   ]
  },
  {
   "cell_type": "code",
   "execution_count": null,
   "id": "94719849",
   "metadata": {},
   "outputs": [],
   "source": []
  }
 ],
 "metadata": {
  "kernelspec": {
   "display_name": "Python 3",
   "language": "python",
   "name": "python3"
  },
  "language_info": {
   "codemirror_mode": {
    "name": "ipython",
    "version": 3
   },
   "file_extension": ".py",
   "mimetype": "text/x-python",
   "name": "python",
   "nbconvert_exporter": "python",
   "pygments_lexer": "ipython3",
   "version": "3.9.15"
  }
 },
 "nbformat": 4,
 "nbformat_minor": 5
}
