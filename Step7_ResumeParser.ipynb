{
 "cells": [
  {
   "cell_type": "code",
   "outputs": [],
   "source": [
    "import pandas as pd\n",
    "from pyresparser import ResumeParser\n",
    "import spacy"
   ],
   "metadata": {
    "collapsed": false,
    "ExecuteTime": {
     "end_time": "2024-03-12T16:56:11.886762Z",
     "start_time": "2024-03-12T16:56:10.131056Z"
    }
   },
   "id": "214e841abcdfe89",
   "execution_count": 1
  },
  {
   "cell_type": "code",
   "outputs": [
    {
     "name": "stderr",
     "output_type": "stream",
     "text": [
      "/Users/anirudhyadav/anaconda3/envs/core_ml_isb/lib/python3.9/site-packages/spacy/util.py:275: UserWarning: [W031] Model 'en_training' (0.0.0) requires spaCy v2.1 and is incompatible with the current spaCy version (2.3.5). This may lead to unexpected results or runtime errors. To resolve this, download a newer compatible model or retrain your custom model with the current spaCy version. For more details and available updates, run: python -m spacy validate\n",
      "  warnings.warn(warn_msg)\n"
     ]
    }
   ],
   "source": [
    "# Replace this with the path to the resume file you want to analyze\n",
    "resume_path = 'Anirudh Singh Yadav.pdf'\n",
    "\n",
    "# Parsing the resume\n",
    "data = ResumeParser(resume_path).get_extracted_data()\n",
    "\n",
    "# Extracting skills\n",
    "# skills = data['skills']\n",
    "\n",
    "# Printing extracted skills\n",
    "# print(\"Extracted Skills:\")\n",
    "# for skill in skills:\n",
    "#     print(\"-\", skill)\n"
   ],
   "metadata": {
    "collapsed": true,
    "ExecuteTime": {
     "end_time": "2024-03-12T16:56:15.084685Z",
     "start_time": "2024-03-12T16:56:13.167604Z"
    }
   },
   "id": "initial_id",
   "execution_count": 2
  },
  {
   "cell_type": "code",
   "outputs": [
    {
     "data": {
      "text/plain": "{'name': 'Anirudh Singh',\n 'email': 'Anirudhyadav@gmail.com',\n 'mobile_number': '8095200288',\n 'skills': ['Engineering',\n  'Gap analysis',\n  'Analysis',\n  'Training',\n  'Operations',\n  'Reports',\n  'Regulatory',\n  'Architecture',\n  'Process',\n  'Metrics',\n  'Mis',\n  'Agile',\n  'R',\n  'Ibm',\n  'Coaching',\n  'Mobile',\n  'Python',\n  'Analytics',\n  'Excel',\n  'Sdlc',\n  'Improvement',\n  'Governance',\n  'Retail',\n  'Java',\n  'Profiling',\n  'Reporting',\n  'Banking',\n  'Statistics',\n  'Migration',\n  'System',\n  'Sap',\n  'Oracle',\n  'Testing',\n  'Technical',\n  'Mining',\n  'English',\n  'Analytical',\n  'Tableau',\n  'Design'],\n 'college_name': None,\n 'degree': None,\n 'designation': None,\n 'experience': ['within time and cost parameters.',\n  'as per organizations quality standards.',\n  'Ê  Developed  competency  in  establishing  performance-driven  culture  that  ensures  accountability  and  personal',\n  'ownerships leading, developing, coaching, and motivating teams to achieve goals profitably.'],\n 'company_names': None,\n 'no_of_pages': 4,\n 'total_experience': 0.0}"
     },
     "execution_count": 3,
     "metadata": {},
     "output_type": "execute_result"
    }
   ],
   "source": [
    "(data)"
   ],
   "metadata": {
    "collapsed": false,
    "ExecuteTime": {
     "end_time": "2024-03-12T16:56:30.796292Z",
     "start_time": "2024-03-12T16:56:30.789779Z"
    }
   },
   "id": "cb34f32079d99366",
   "execution_count": 3
  },
  {
   "cell_type": "code",
   "outputs": [
    {
     "name": "stdout",
     "output_type": "stream",
     "text": [
      "['Engineering', 'Gap analysis', 'Analysis', 'Training', 'Operations', 'Reports', 'Regulatory', 'Architecture', 'Process', 'Metrics', 'Mis', 'Agile', 'R', 'Ibm', 'Coaching', 'Mobile', 'Python', 'Analytics', 'Excel', 'Sdlc', 'Improvement', 'Governance', 'Retail', 'Java', 'Profiling', 'Reporting', 'Banking', 'Statistics', 'Migration', 'System', 'Sap', 'Oracle', 'Testing', 'Technical', 'Mining', 'English', 'Analytical', 'Tableau', 'Design']\n"
     ]
    }
   ],
   "source": [
    "# Extracting skills\n",
    "skills = data['skills']\n",
    "\n",
    "# Printing extracted skills\n",
    "# print(\"Extracted Skills:\")\n",
    "# for skill in skills:\n",
    "print(skills)"
   ],
   "metadata": {
    "collapsed": false,
    "ExecuteTime": {
     "end_time": "2024-03-12T17:13:57.449673Z",
     "start_time": "2024-03-12T17:13:57.446598Z"
    }
   },
   "id": "6b04b3d351f9922d",
   "execution_count": 16
  },
  {
   "cell_type": "code",
   "outputs": [
    {
     "name": "stdout",
     "output_type": "stream",
     "text": [
      "Education:\n",
      "\n",
      "\n",
      "Experience:\n",
      "\n",
      "\n",
      "Skills:\n",
      "\n",
      "\n",
      "Projects:\n",
      "\n",
      "\n",
      "Certifications:\n",
      "\n",
      "\n",
      "Awards:\n",
      "\n",
      "\n",
      "Publications:\n",
      "\n",
      "\n",
      "Interests:\n"
     ]
    }
   ],
   "source": [
    "def exhaustive_parse_resume(text):\n",
    "    lines = [line.strip() for line in text.split('\\n') if line.strip()]\n",
    "    section_headers = {\n",
    "        'education': 'Education',\n",
    "        'experience': 'Experience',\n",
    "        'skills': 'Skills',\n",
    "        'projects': 'Projects',\n",
    "        'certifications': 'Certifications',\n",
    "        'awards': 'Awards',\n",
    "        'publications': 'Publications',\n",
    "        'interests': 'Interests'\n",
    "    }\n",
    "    # Initialize a dictionary to hold categorized content\n",
    "    categorized_content = {value: [] for value in section_headers.values()}\n",
    "    current_section = None\n",
    "    \n",
    "    for line in lines:\n",
    "        # Identify section headers by checking if any keyword is in the line\n",
    "        matched_headers = [header for keyword, header in section_headers.items() if keyword in line.lower()]\n",
    "        if matched_headers:\n",
    "            current_section = matched_headers[0]  # Take the first matched header\n",
    "            continue  # Skip adding the section header to content\n",
    "        \n",
    "        # Add content to the current section if it's identified\n",
    "        if current_section:\n",
    "            categorized_content[current_section].append(line)\n",
    "    \n",
    "    return categorized_content\n",
    "\n",
    "parsed_resume = exhaustive_parse_resume('Anirudh Singh Yadav.pdf')\n",
    "\n",
    "for section, content in parsed_resume.items():\n",
    "    print(f\"{section}:\")\n",
    "    for item in content:\n",
    "        print(f\"- {item}\")\n",
    "    print(\"\\n\")\n"
   ],
   "metadata": {
    "collapsed": false,
    "ExecuteTime": {
     "end_time": "2024-03-12T17:04:01.298113Z",
     "start_time": "2024-03-12T17:04:01.291866Z"
    }
   },
   "id": "e0ea081f3d1fc817",
   "execution_count": 6
  },
  {
   "cell_type": "code",
   "outputs": [
    {
     "name": "stderr",
     "output_type": "stream",
     "text": [
      "/Users/anirudhyadav/anaconda3/envs/core_ml_isb/lib/python3.9/site-packages/spacy/util.py:275: UserWarning: [W031] Model 'en_training' (0.0.0) requires spaCy v2.1 and is incompatible with the current spaCy version (2.3.5). This may lead to unexpected results or runtime errors. To resolve this, download a newer compatible model or retrain your custom model with the current spaCy version. For more details and available updates, run: python -m spacy validate\n",
      "  warnings.warn(warn_msg)\n"
     ]
    },
    {
     "name": "stdout",
     "output_type": "stream",
     "text": [
      "Name: Anirudh Singh\n",
      "Email: Anirudhyadav@gmail.com\n",
      "Skills:\n",
      "- Engineering\n",
      "- Gap analysis\n",
      "- Analysis\n",
      "- Training\n",
      "- Operations\n",
      "- Reports\n",
      "- Regulatory\n",
      "- Architecture\n",
      "- Process\n",
      "- Metrics\n",
      "- Mis\n",
      "- Agile\n",
      "- R\n",
      "- Ibm\n",
      "- Coaching\n",
      "- Mobile\n",
      "- Python\n",
      "- Analytics\n",
      "- Excel\n",
      "- Sdlc\n",
      "- Improvement\n",
      "- Governance\n",
      "- Retail\n",
      "- Java\n",
      "- Profiling\n",
      "- Reporting\n",
      "- Banking\n",
      "- Statistics\n",
      "- Migration\n",
      "- System\n",
      "- Sap\n",
      "- Oracle\n",
      "- Testing\n",
      "- Technical\n",
      "- Mining\n",
      "- English\n",
      "- Analytical\n",
      "- Tableau\n",
      "- Design\n",
      "Education:\n",
      "Experience:\n",
      "- within time and cost parameters.\n",
      "- as per organizations quality standards.\n",
      "- Ê  Developed  competency  in  establishing  performance-driven  culture  that  ensures  accountability  and  personal\n",
      "- ownerships leading, developing, coaching, and motivating teams to achieve goals profitably.\n"
     ]
    }
   ],
   "source": [
    "from pyresparser import ResumeParser\n",
    "\n",
    "# Parse the resume\n",
    "data = ResumeParser('Anirudh Singh Yadav.pdf').get_extracted_data()\n",
    "\n",
    "# Data now contains various keys like 'name', 'email', 'education', 'skills', etc.\n",
    "# You can access these directly. For example:\n",
    "\n",
    "# Print the name\n",
    "print(\"Name:\", data.get('name'))\n",
    "\n",
    "# Print the email\n",
    "print(\"Email:\", data.get('email'))\n",
    "\n",
    "# Print the skills\n",
    "print(\"Skills:\")\n",
    "for skill in data.get('skills', []):\n",
    "    print(\"-\", skill)\n",
    "\n",
    "# Education details\n",
    "print(\"Education:\")\n",
    "for education in data.get('education', []):\n",
    "    print(\"-\", education)\n",
    "\n",
    "# Experience details\n",
    "print(\"Experience:\")\n",
    "for experience in data.get('experience', []):\n",
    "    print(\"-\", experience)\n",
    "\n"
   ],
   "metadata": {
    "collapsed": false,
    "ExecuteTime": {
     "end_time": "2024-03-12T17:10:13.874926Z",
     "start_time": "2024-03-12T17:10:12.048478Z"
    }
   },
   "id": "c7df00aa6ec0e35a",
   "execution_count": 12
  },
  {
   "cell_type": "code",
   "outputs": [
    {
     "data": {
      "text/plain": "{'name': 'Anirudh Singh',\n 'email': 'Anirudhyadav@gmail.com',\n 'mobile_number': '8095200288',\n 'skills': ['Engineering',\n  'Gap analysis',\n  'Analysis',\n  'Training',\n  'Operations',\n  'Reports',\n  'Regulatory',\n  'Architecture',\n  'Process',\n  'Metrics',\n  'Mis',\n  'Agile',\n  'R',\n  'Ibm',\n  'Coaching',\n  'Mobile',\n  'Python',\n  'Analytics',\n  'Excel',\n  'Sdlc',\n  'Improvement',\n  'Governance',\n  'Retail',\n  'Java',\n  'Profiling',\n  'Reporting',\n  'Banking',\n  'Statistics',\n  'Migration',\n  'System',\n  'Sap',\n  'Oracle',\n  'Testing',\n  'Technical',\n  'Mining',\n  'English',\n  'Analytical',\n  'Tableau',\n  'Design'],\n 'college_name': None,\n 'degree': None,\n 'designation': None,\n 'experience': ['within time and cost parameters.',\n  'as per organizations quality standards.',\n  'Ê  Developed  competency  in  establishing  performance-driven  culture  that  ensures  accountability  and  personal',\n  'ownerships leading, developing, coaching, and motivating teams to achieve goals profitably.'],\n 'company_names': None,\n 'no_of_pages': 4,\n 'total_experience': 0.0}"
     },
     "execution_count": 13,
     "metadata": {},
     "output_type": "execute_result"
    }
   ],
   "source": [
    "data"
   ],
   "metadata": {
    "collapsed": false,
    "ExecuteTime": {
     "end_time": "2024-03-12T17:10:31.132749Z",
     "start_time": "2024-03-12T17:10:31.127023Z"
    }
   },
   "id": "1115b579b8787a2a",
   "execution_count": 13
  },
  {
   "cell_type": "code",
   "outputs": [],
   "source": [],
   "metadata": {
    "collapsed": false
   },
   "id": "ad1e4d68915e9924"
  }
 ],
 "metadata": {
  "kernelspec": {
   "display_name": "Python 3",
   "language": "python",
   "name": "python3"
  },
  "language_info": {
   "codemirror_mode": {
    "name": "ipython",
    "version": 2
   },
   "file_extension": ".py",
   "mimetype": "text/x-python",
   "name": "python",
   "nbconvert_exporter": "python",
   "pygments_lexer": "ipython2",
   "version": "2.7.6"
  }
 },
 "nbformat": 4,
 "nbformat_minor": 5
}
