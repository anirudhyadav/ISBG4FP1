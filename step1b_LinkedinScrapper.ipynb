{
 "cells": [
  {
   "cell_type": "code",
   "execution_count": 92,
   "id": "initial_id",
   "metadata": {
    "ExecuteTime": {
     "end_time": "2024-01-13T08:47:44.444242Z",
     "start_time": "2024-01-13T08:47:44.440595Z"
    },
    "collapsed": true
   },
   "outputs": [],
   "source": [
    "from time import sleep\n",
    "from selenium import webdriver\n",
    "from selenium.webdriver.common.keys import Keys\n",
    "from selenium.webdriver.common.by import By\n",
    "from selenium.webdriver.support.ui import WebDriverWait\n",
    "from selenium.webdriver.support import expected_conditions as EC\n",
    "import re\n",
    "\n",
    "from random import randint\n",
    "import pandas as pd\n",
    "\n",
    "from bs4 import BeautifulSoup"
   ]
  },
  {
   "cell_type": "code",
   "execution_count": 119,
   "id": "c54bee4de9c58363",
   "metadata": {
    "ExecuteTime": {
     "end_time": "2024-01-13T13:07:46.421378Z",
     "start_time": "2024-01-13T13:07:23.977993Z"
    },
    "collapsed": false
   },
   "outputs": [],
   "source": [
    "# Initialize the WebDriver\n",
    "driver = webdriver.Chrome()\n",
    "\n",
    "base_url = \"https://www.linkedin.com/\"\n",
    "driver.get(base_url)\n",
    "# Wait for the page to load\n",
    "sleep(5)\n",
    "# Wait for the username and password fields to be present\n",
    "username = WebDriverWait(driver, 10).until(\n",
    "    EC.presence_of_element_located((By.ID, 'session_key'))\n",
    ")\n",
    "password = WebDriverWait(driver, 10).until(\n",
    "    EC.presence_of_element_located((By.ID, 'session_password'))\n",
    ")\n",
    "# Input your login credentials\n",
    "username.send_keys(\"anirudhyadav@gmail.com\")\n",
    "password.send_keys(\"*******\") #Need To give password here \n",
    "\n",
    "# Submit the login form\n",
    "password.send_keys(Keys.RETURN)\n",
    "\n",
    "# Wait for the login to complete\n",
    "sleep(5)\n"
   ]
  },
  {
   "cell_type": "code",
   "execution_count": 3,
   "id": "5370e240a1af17e2",
   "metadata": {
    "ExecuteTime": {
     "end_time": "2024-01-13T06:24:12.916057Z",
     "start_time": "2024-01-13T06:24:12.903683Z"
    },
    "collapsed": false
   },
   "outputs": [],
   "source": [
    "\n",
    "job_titles = [\n",
    "    \"Data Scientist\",\n",
    "    \"Data Science Consultant\",\n",
    "    \"Machine Learning Engineer\",\n",
    "    \"AI Research Scientist\",\n",
    "    \"Data Analyst\",\n",
    "    \"Business Analyst\",\n",
    "    \"Data Engineer\",\n",
    "    \"Statistician\",\n",
    "    \"Big Data Engineer\",\n",
    "    \"Data Architect\",\n",
    "    \"Data Storyteller\"\n",
    "]"
   ]
  },
  {
   "cell_type": "code",
   "execution_count": 115,
   "id": "39a752d316daa231",
   "metadata": {
    "ExecuteTime": {
     "end_time": "2024-01-13T12:51:39.561176Z",
     "start_time": "2024-01-13T12:51:39.553568Z"
    },
    "collapsed": false
   },
   "outputs": [],
   "source": [
    "user_input_profile = \"Data Architect\"\n",
    "user_input_location = \"Bengaluru\"\n",
    "user_input_experience = \"4 yrs\""
   ]
  },
  {
   "cell_type": "code",
   "execution_count": 116,
   "id": "a7c6b1c4a8acccc0",
   "metadata": {
    "ExecuteTime": {
     "end_time": "2024-01-13T12:51:53.729849Z",
     "start_time": "2024-01-13T12:51:40.371167Z"
    },
    "collapsed": false
   },
   "outputs": [],
   "source": [
    "search_query = f'site:linkedin.com/in/ AND \"{user_input_profile}\" AND \"{user_input_location}\" AND {user_input_experience} experience'\n",
    "driver.get(\"https://www.google.com\")\n",
    "sleep(randint(5,7))\n",
    "query = driver.find_element(\"name\", \"q\")\n",
    "query.send_keys(search_query)\n",
    "sleep(randint(5,7))\n",
    "query.send_keys(Keys.RETURN)"
   ]
  },
  {
   "cell_type": "code",
   "execution_count": 117,
   "id": "c4bb5fadd8f2b5c7",
   "metadata": {
    "ExecuteTime": {
     "end_time": "2024-01-13T13:03:37.919306Z",
     "start_time": "2024-01-13T13:03:36.000311Z"
    },
    "collapsed": false
   },
   "outputs": [
    {
     "data": {
      "text/plain": [
       "['https://in.linkedin.com/in/dhyanesh-babu-09bb55b',\n",
       " 'https://in.linkedin.com/in/udaya-kumar-kurra',\n",
       " 'https://in.linkedin.com/in/priyank-pandey-4233a513',\n",
       " 'https://in.linkedin.com/in/navinagarwala14',\n",
       " 'https://in.linkedin.com/in/divya-r-178909112',\n",
       " 'https://in.linkedin.com/in/saigeethamn',\n",
       " 'https://in.linkedin.com/in/lalitha-ravi-a23449119',\n",
       " 'https://in.linkedin.com/in/bharat-mishra-05a70a24',\n",
       " 'https://in.linkedin.com/in/jayashree-p-34598133',\n",
       " 'https://in.linkedin.com/in/sam-thomas-a370566',\n",
       " 'https://in.linkedin.com/in/nagaraju-gajula-0a408427',\n",
       " 'https://in.linkedin.com/in/rajesh-mechery-476011159',\n",
       " 'https://in.linkedin.com/in/rabindra-gaan',\n",
       " 'https://in.linkedin.com/in/gaurav-gupta-v1',\n",
       " 'https://in.linkedin.com/in/akshya-sharma',\n",
       " 'https://in.linkedin.com/in/mukund-kumar-4a4a4015',\n",
       " 'https://in.linkedin.com/in/nizar-ahamed-b6659953',\n",
       " 'https://in.linkedin.com/in/nandita-singhania-gupta',\n",
       " 'https://in.linkedin.com/in/reena-chandauriya-b9797354',\n",
       " 'https://in.linkedin.com/in/amith-bopanna-918b7217',\n",
       " 'https://in.linkedin.com/in/debabrata-mishra-a045b092',\n",
       " 'https://in.linkedin.com/in/atul-jain-data-arch',\n",
       " 'https://in.linkedin.com/in/rohit-bhagat-6598b488',\n",
       " 'https://in.linkedin.com/in/rohith-mirajkar-2a8b351a',\n",
       " 'https://in.linkedin.com/in/ashis-banerjee-89a65937',\n",
       " 'https://in.linkedin.com/in/koyel-s-ghatak-695bb99a',\n",
       " 'https://in.linkedin.com/in/sassoto',\n",
       " 'https://in.linkedin.com/in/surajit-s-75685240?trk=public_profile_samename-profile',\n",
       " 'https://in.linkedin.com/in/dibyendunandi',\n",
       " 'https://in.linkedin.com/in/raman-ghadge-b7036657',\n",
       " 'https://in.linkedin.com/in/rayaguru-s-n-dash-509a1890',\n",
       " 'https://in.linkedin.com/in/indher-sarvade-ab2a4864',\n",
       " 'https://in.linkedin.com/in/prakash-desai-128b621b6',\n",
       " 'https://in.linkedin.com/in/ajay-kumar-89698832',\n",
       " 'https://in.linkedin.com/in/amirthaprakash-chidambaram',\n",
       " 'https://in.linkedin.com/in/atulkadlag',\n",
       " 'https://in.linkedin.com/in/jayashree-suresh-067941289',\n",
       " 'https://in.linkedin.com/in/parva-shrivastava-45b0a1105',\n",
       " 'https://in.linkedin.com/in/veena-raghavendra-9a923814',\n",
       " 'https://in.linkedin.com/in/jiten-cloud1',\n",
       " 'https://in.linkedin.com/in/amit-srivastava-46761722',\n",
       " 'https://in.linkedin.com/in/sivasai-boga-683a9627',\n",
       " 'https://in.linkedin.com/in/nanuganga',\n",
       " 'https://in.linkedin.com/in/chittaranjan-kotian-28a6a523',\n",
       " 'https://in.linkedin.com/in/sam-joseph-d',\n",
       " 'https://uk.linkedin.com/in/jithin-km-118602123',\n",
       " 'https://in.linkedin.com/in/harikumarg',\n",
       " 'https://in.linkedin.com/in/saileyee-thakur-0b32b938',\n",
       " 'https://www.linkedin.com/in/henakauser',\n",
       " 'https://in.linkedin.com/in/subrata-parida-7541965',\n",
       " 'https://in.linkedin.com/in/thiyagarajan-g-0706',\n",
       " 'https://in.linkedin.com/in/vivekraj-db-dwh-bi',\n",
       " 'https://in.linkedin.com/in/debrajmukherjee?trk=public_profile_recommendations',\n",
       " 'https://in.linkedin.com/in/nootan-sharma-01772b31',\n",
       " 'https://in.linkedin.com/in/suvomoychakraborty',\n",
       " 'https://in.linkedin.com/in/pradipta-dasgupta-a7989b43',\n",
       " 'https://in.linkedin.com/in/nabendu-mishra',\n",
       " 'https://in.linkedin.com/in/siva-kurella-836521165?trk=pub-pbmap',\n",
       " 'https://in.linkedin.com/in/nijujose',\n",
       " 'https://in.linkedin.com/in/shaurabhdubey',\n",
       " 'https://in.linkedin.com/in/debashis-sahu-1b621115',\n",
       " 'https://in.linkedin.com/in/samadna',\n",
       " 'https://in.linkedin.com/in/manuraj-vs-2aba1321',\n",
       " 'https://in.linkedin.com/in/jagasrik',\n",
       " 'https://in.linkedin.com/in/senthil-kumar-a701a02a',\n",
       " 'https://in.linkedin.com/in/rejith-p-r-85381718',\n",
       " 'https://in.linkedin.com/in/sangeetha-pandiarajan-a0a84630',\n",
       " 'https://in.linkedin.com/in/jyothi-sb-b15156284',\n",
       " 'https://in.linkedin.com/in/rajasekar-manokaran-571b7065',\n",
       " 'https://in.linkedin.com/in/pankaj-kumar-74086a82',\n",
       " 'https://in.linkedin.com/in/atul-jha-a524bb15',\n",
       " 'https://in.linkedin.com/in/arun4bigdata',\n",
       " 'https://www.linkedin.com/in/ranganath-gurram',\n",
       " 'https://in.linkedin.com/in/ramya-n-606b41a4',\n",
       " 'https://in.linkedin.com/in/biswanath-banerjee-b1a52210',\n",
       " 'https://in.linkedin.com/in/tusharchakraborty',\n",
       " 'https://in.linkedin.com/in/vindhyachal-chaubey-82924915',\n",
       " 'https://in.linkedin.com/in/gurunathnavalagund',\n",
       " 'https://in.linkedin.com/in/kesavan-krishnappan-07818020',\n",
       " 'https://in.linkedin.com/in/winvalli',\n",
       " 'https://in.linkedin.com/in/jagaran',\n",
       " 'https://in.linkedin.com/in/nagalakshmi-sridharan-0675bb7',\n",
       " 'https://in.linkedin.com/in/shruti-joshi040191',\n",
       " 'https://in.linkedin.com/in/vsridhara',\n",
       " 'https://in.linkedin.com/in/prabhavathi-kk-09383626',\n",
       " 'https://in.linkedin.com/in/vivekanand-723b546',\n",
       " 'https://in.linkedin.com/in/manoj-kumar-7321ba20',\n",
       " 'https://in.linkedin.com/in/santosh-gowrisetty-togaf%C2%AE-753033105',\n",
       " 'https://in.linkedin.com/in/yatingoyal',\n",
       " 'https://in.linkedin.com/in/ramesh-pallothu-abb50b51',\n",
       " 'https://in.linkedin.com/in/anirban-surai-442a656a',\n",
       " 'https://in.linkedin.com/in/senthilnathan-kalidas-80a80297',\n",
       " 'https://in.linkedin.com/in/ranjith-bakthavachalam-b6330123',\n",
       " 'https://in.linkedin.com/in/ravishankara-chandrappa-8ba88224',\n",
       " 'https://in.linkedin.com/in/rasheed-md',\n",
       " 'https://in.linkedin.com/in/sumit-ranjan-panda',\n",
       " 'https://in.linkedin.com/in/manoj-radhakrishnan-b62716240',\n",
       " 'https://in.linkedin.com/in/naveengkumar',\n",
       " 'https://in.linkedin.com/in/vishweshwara-swamy-b958b516']"
      ]
     },
     "execution_count": 117,
     "metadata": {},
     "output_type": "execute_result"
    }
   ],
   "source": [
    "soup = BeautifulSoup(driver.page_source,\"html.parser\")\n",
    "google_link_page = soup.find_all(class_ = \"yuRUbf\")\n",
    "\n",
    "all_profiles_urls = []\n",
    "\n",
    "for num_ in range(len(google_link_page)):\n",
    "    profile_link = soup.find_all(class_ = \"yuRUbf\")[num_].find_all('a', href=True)[-1]['href']\n",
    "    all_profiles_urls.append(profile_link)\n",
    "    \n",
    "all_profiles_urls"
   ]
  },
  {
   "cell_type": "code",
   "execution_count": 118,
   "id": "1b86eabc9aaff8b",
   "metadata": {
    "ExecuteTime": {
     "end_time": "2024-01-13T13:07:13.856536Z",
     "start_time": "2024-01-13T13:04:52.655375Z"
    },
    "collapsed": false
   },
   "outputs": [
    {
     "ename": "KeyboardInterrupt",
     "evalue": "",
     "output_type": "error",
     "traceback": [
      "\u001b[0;31m---------------------------------------------------------------------------\u001b[0m",
      "\u001b[0;31mKeyboardInterrupt\u001b[0m                         Traceback (most recent call last)",
      "Cell \u001b[0;32mIn[118], line 5\u001b[0m\n\u001b[1;32m      3\u001b[0m \u001b[38;5;28;01mfor\u001b[39;00m profile_url \u001b[38;5;129;01min\u001b[39;00m all_profiles_urls:\n\u001b[1;32m      4\u001b[0m     driver\u001b[38;5;241m.\u001b[39mget(profile_url)\n\u001b[0;32m----> 5\u001b[0m     \u001b[43msleep\u001b[49m\u001b[43m(\u001b[49m\u001b[38;5;241;43m10\u001b[39;49m\u001b[43m)\u001b[49m\n\u001b[1;32m      7\u001b[0m     \u001b[38;5;28;01mtry\u001b[39;00m:\n\u001b[1;32m      8\u001b[0m         soup \u001b[38;5;241m=\u001b[39m BeautifulSoup(driver\u001b[38;5;241m.\u001b[39mpage_source,\u001b[38;5;124m\"\u001b[39m\u001b[38;5;124mhtml.parser\u001b[39m\u001b[38;5;124m\"\u001b[39m)\n",
      "\u001b[0;31mKeyboardInterrupt\u001b[0m: "
     ]
    }
   ],
   "source": [
    "all_linkedin_profiles_df = pd.DataFrame()\n",
    "\n",
    "for profile_url in all_profiles_urls:\n",
    "    driver.get(profile_url)\n",
    "    sleep(10)\n",
    "    \n",
    "    try:\n",
    "        soup = BeautifulSoup(driver.page_source,\"html.parser\")\n",
    "        name = soup.findAll(class_=\"text-heading-xlarge inline t-24 v-align-middle break-words\")[-1].get_text()\n",
    "        profile_desc = soup.findAll(class_=\"pv-shared-text-with-see-more full-width t-14 t-normal t-black display-flex align-items-center\")[0].get_text()\n",
    "    except:\n",
    "        name = ''\n",
    "        profile_desc = ''\n",
    "        \n",
    "    \n",
    "    try:\n",
    "        driver.get(profile_url+\"/details/skills\")\n",
    "        sleep(9)\n",
    "        soup = BeautifulSoup(driver.page_source,\"html.parser\")\n",
    "        individual_skills = []\n",
    "        skill_page = soup.findAll(class_=\"display-flex align-items-center mr1 hoverable-link-text t-bold\")\n",
    "    \n",
    "        for num in range(len(skill_page)):\n",
    "            each_skill = soup.findAll(class_=\"display-flex align-items-center mr1 hoverable-link-text t-bold\")[num].find_all('span')[0].get_text()\n",
    "            \n",
    "            individual_skills.append(each_skill)\n",
    "    \n",
    "        list_of_skills = list(set(individual_skills))\n",
    "    except:\n",
    "        list_of_skills = []\n",
    "        \n",
    "    profile_data = {\n",
    "                'name': name,\n",
    "                'job_title': user_input_profile,\n",
    "                'experience': user_input_experience,\n",
    "                'location': user_input_location,\n",
    "                'profile_description': profile_desc,\n",
    "                'tech_skills': list_of_skills,\n",
    "                'profile_link': profile_url\n",
    "            }\n",
    "\n",
    "        \n",
    "    df_dictionary = pd.DataFrame([profile_data])\n",
    "    all_linkedin_profiles_df = pd.concat([all_linkedin_profiles_df, df_dictionary], ignore_index=True)"
   ]
  },
  {
   "cell_type": "code",
   "execution_count": 126,
   "id": "5453502c9f4464c3",
   "metadata": {
    "ExecuteTime": {
     "end_time": "2024-01-13T16:22:52.073310Z",
     "start_time": "2024-01-13T16:22:52.039893Z"
    },
    "collapsed": false
   },
   "outputs": [],
   "source": [
    "# all_df = pd.DataFrame()\n",
    "all_df = pd.read_csv(\"all_linkedin_profiles.csv\")"
   ]
  },
  {
   "cell_type": "code",
   "execution_count": 111,
   "id": "a0aad94556e06",
   "metadata": {
    "ExecuteTime": {
     "end_time": "2024-01-13T12:38:06.810927Z",
     "start_time": "2024-01-13T12:38:06.797245Z"
    },
    "collapsed": false
   },
   "outputs": [],
   "source": [
    "# all_df  = pd.concat([all_df, all_linkedin_profiles_df], ignore_index=True)"
   ]
  },
  {
   "cell_type": "code",
   "execution_count": 125,
   "id": "15f144d0c27e68d",
   "metadata": {
    "ExecuteTime": {
     "end_time": "2024-01-13T16:22:44.083758Z",
     "start_time": "2024-01-13T16:22:44.055793Z"
    },
    "collapsed": false
   },
   "outputs": [],
   "source": [
    "# all_df.to_csv(\"all_linkedin_profiles.csv\", index=False)"
   ]
  },
  {
   "cell_type": "code",
   "execution_count": 102,
   "id": "6404370f46f469b6",
   "metadata": {
    "ExecuteTime": {
     "end_time": "2024-01-13T10:09:37.185561Z",
     "start_time": "2024-01-13T10:09:37.138445Z"
    },
    "collapsed": false
   },
   "outputs": [],
   "source": [
    "#all_df.drop(['Unnamed: 0.2', 'Unnamed: 0.1','Unnamed: 0'], axis=1, inplace=True)"
   ]
  },
  {
   "cell_type": "code",
   "execution_count": 127,
   "id": "36172ba731c38305",
   "metadata": {
    "ExecuteTime": {
     "end_time": "2024-01-13T16:23:00.893191Z",
     "start_time": "2024-01-13T16:23:00.845012Z"
    },
    "collapsed": false
   },
   "outputs": [
    {
     "data": {
      "text/html": [
       "<div>\n",
       "<style scoped>\n",
       "    .dataframe tbody tr th:only-of-type {\n",
       "        vertical-align: middle;\n",
       "    }\n",
       "\n",
       "    .dataframe tbody tr th {\n",
       "        vertical-align: top;\n",
       "    }\n",
       "\n",
       "    .dataframe thead th {\n",
       "        text-align: right;\n",
       "    }\n",
       "</style>\n",
       "<table border=\"1\" class=\"dataframe\">\n",
       "  <thead>\n",
       "    <tr style=\"text-align: right;\">\n",
       "      <th></th>\n",
       "      <th>name</th>\n",
       "      <th>job_title</th>\n",
       "      <th>experience</th>\n",
       "      <th>location</th>\n",
       "      <th>profile_description</th>\n",
       "      <th>tech_skills</th>\n",
       "      <th>profile_link</th>\n",
       "    </tr>\n",
       "  </thead>\n",
       "  <tbody>\n",
       "    <tr>\n",
       "      <th>0</th>\n",
       "      <td>Pushkar Saini</td>\n",
       "      <td>Data Scientist</td>\n",
       "      <td>5 yrs</td>\n",
       "      <td>Delhi</td>\n",
       "      <td>\\n\\nData Scientist, 5 years of working experie...</td>\n",
       "      <td>['Hadoop', 'Data Analysis', 'Text Mining', 'R'...</td>\n",
       "      <td>https://in.linkedin.com/in/pushkar-saini-102bb...</td>\n",
       "    </tr>\n",
       "    <tr>\n",
       "      <th>1</th>\n",
       "      <td>Manish Kushwaha</td>\n",
       "      <td>Data Scientist</td>\n",
       "      <td>5 yrs</td>\n",
       "      <td>Delhi</td>\n",
       "      <td>\\n\\nMachine Learning || Analytics || Statistic...</td>\n",
       "      <td>[]</td>\n",
       "      <td>https://in.linkedin.com/in/manish-kushwaha-73a...</td>\n",
       "    </tr>\n",
       "    <tr>\n",
       "      <th>2</th>\n",
       "      <td>Sujeet kumar</td>\n",
       "      <td>Data Scientist</td>\n",
       "      <td>5 yrs</td>\n",
       "      <td>Delhi</td>\n",
       "      <td>\\n\\nAs a seasoned Data Scientist with 5+ years...</td>\n",
       "      <td>[]</td>\n",
       "      <td>https://in.linkedin.com/in/sujeet14108</td>\n",
       "    </tr>\n",
       "    <tr>\n",
       "      <th>3</th>\n",
       "      <td>Ajeet Singh</td>\n",
       "      <td>Data Scientist</td>\n",
       "      <td>5 yrs</td>\n",
       "      <td>Delhi</td>\n",
       "      <td>\\n\\nAs a Data Scientist with 5 years of experi...</td>\n",
       "      <td>[]</td>\n",
       "      <td>https://in.linkedin.com/in/singhajeet23</td>\n",
       "    </tr>\n",
       "    <tr>\n",
       "      <th>4</th>\n",
       "      <td>Mohammed Fahad</td>\n",
       "      <td>Data Scientist</td>\n",
       "      <td>5 yrs</td>\n",
       "      <td>Delhi</td>\n",
       "      <td>\\n\\n5 years of total experience out of which 4...</td>\n",
       "      <td>['AWS Identity and Access Management (AWS IAM)...</td>\n",
       "      <td>https://in.linkedin.com/in/mohammed-fahad-2595...</td>\n",
       "    </tr>\n",
       "    <tr>\n",
       "      <th>...</th>\n",
       "      <td>...</td>\n",
       "      <td>...</td>\n",
       "      <td>...</td>\n",
       "      <td>...</td>\n",
       "      <td>...</td>\n",
       "      <td>...</td>\n",
       "      <td>...</td>\n",
       "    </tr>\n",
       "    <tr>\n",
       "      <th>353</th>\n",
       "      <td>NaN</td>\n",
       "      <td>AI Research Scientist</td>\n",
       "      <td>7 yrs</td>\n",
       "      <td>Bengaluru</td>\n",
       "      <td>NaN</td>\n",
       "      <td>[]</td>\n",
       "      <td>https://in.linkedin.com/in/prateek-saraswat</td>\n",
       "    </tr>\n",
       "    <tr>\n",
       "      <th>354</th>\n",
       "      <td>NaN</td>\n",
       "      <td>AI Research Scientist</td>\n",
       "      <td>7 yrs</td>\n",
       "      <td>Bengaluru</td>\n",
       "      <td>NaN</td>\n",
       "      <td>[]</td>\n",
       "      <td>https://in.linkedin.com/in/sarbjeet-singh-9936...</td>\n",
       "    </tr>\n",
       "    <tr>\n",
       "      <th>355</th>\n",
       "      <td>NaN</td>\n",
       "      <td>AI Research Scientist</td>\n",
       "      <td>7 yrs</td>\n",
       "      <td>Bengaluru</td>\n",
       "      <td>NaN</td>\n",
       "      <td>[]</td>\n",
       "      <td>https://in.linkedin.com/in/aman-singh-b40300264</td>\n",
       "    </tr>\n",
       "    <tr>\n",
       "      <th>356</th>\n",
       "      <td>NaN</td>\n",
       "      <td>AI Research Scientist</td>\n",
       "      <td>7 yrs</td>\n",
       "      <td>Bengaluru</td>\n",
       "      <td>NaN</td>\n",
       "      <td>[]</td>\n",
       "      <td>https://in.linkedin.com/in/tyg-lucas-1b0732b5</td>\n",
       "    </tr>\n",
       "    <tr>\n",
       "      <th>357</th>\n",
       "      <td>NaN</td>\n",
       "      <td>AI Research Scientist</td>\n",
       "      <td>7 yrs</td>\n",
       "      <td>Bengaluru</td>\n",
       "      <td>NaN</td>\n",
       "      <td>[]</td>\n",
       "      <td>https://in.linkedin.com/in/saurabh-nema-074255208</td>\n",
       "    </tr>\n",
       "  </tbody>\n",
       "</table>\n",
       "<p>358 rows × 7 columns</p>\n",
       "</div>"
      ],
      "text/plain": [
       "                name              job_title experience   location  \\\n",
       "0      Pushkar Saini         Data Scientist      5 yrs      Delhi   \n",
       "1    Manish Kushwaha         Data Scientist      5 yrs      Delhi   \n",
       "2       Sujeet kumar         Data Scientist      5 yrs      Delhi   \n",
       "3        Ajeet Singh         Data Scientist      5 yrs      Delhi   \n",
       "4     Mohammed Fahad         Data Scientist      5 yrs      Delhi   \n",
       "..               ...                    ...        ...        ...   \n",
       "353              NaN  AI Research Scientist      7 yrs  Bengaluru   \n",
       "354              NaN  AI Research Scientist      7 yrs  Bengaluru   \n",
       "355              NaN  AI Research Scientist      7 yrs  Bengaluru   \n",
       "356              NaN  AI Research Scientist      7 yrs  Bengaluru   \n",
       "357              NaN  AI Research Scientist      7 yrs  Bengaluru   \n",
       "\n",
       "                                   profile_description  \\\n",
       "0    \\n\\nData Scientist, 5 years of working experie...   \n",
       "1    \\n\\nMachine Learning || Analytics || Statistic...   \n",
       "2    \\n\\nAs a seasoned Data Scientist with 5+ years...   \n",
       "3    \\n\\nAs a Data Scientist with 5 years of experi...   \n",
       "4    \\n\\n5 years of total experience out of which 4...   \n",
       "..                                                 ...   \n",
       "353                                                NaN   \n",
       "354                                                NaN   \n",
       "355                                                NaN   \n",
       "356                                                NaN   \n",
       "357                                                NaN   \n",
       "\n",
       "                                           tech_skills  \\\n",
       "0    ['Hadoop', 'Data Analysis', 'Text Mining', 'R'...   \n",
       "1                                                   []   \n",
       "2                                                   []   \n",
       "3                                                   []   \n",
       "4    ['AWS Identity and Access Management (AWS IAM)...   \n",
       "..                                                 ...   \n",
       "353                                                 []   \n",
       "354                                                 []   \n",
       "355                                                 []   \n",
       "356                                                 []   \n",
       "357                                                 []   \n",
       "\n",
       "                                          profile_link  \n",
       "0    https://in.linkedin.com/in/pushkar-saini-102bb...  \n",
       "1    https://in.linkedin.com/in/manish-kushwaha-73a...  \n",
       "2               https://in.linkedin.com/in/sujeet14108  \n",
       "3              https://in.linkedin.com/in/singhajeet23  \n",
       "4    https://in.linkedin.com/in/mohammed-fahad-2595...  \n",
       "..                                                 ...  \n",
       "353        https://in.linkedin.com/in/prateek-saraswat  \n",
       "354  https://in.linkedin.com/in/sarbjeet-singh-9936...  \n",
       "355    https://in.linkedin.com/in/aman-singh-b40300264  \n",
       "356      https://in.linkedin.com/in/tyg-lucas-1b0732b5  \n",
       "357  https://in.linkedin.com/in/saurabh-nema-074255208  \n",
       "\n",
       "[358 rows x 7 columns]"
      ]
     },
     "execution_count": 127,
     "metadata": {},
     "output_type": "execute_result"
    }
   ],
   "source": [
    "all_df"
   ]
  },
  {
   "cell_type": "code",
   "execution_count": null,
   "id": "d8ef1c438fb58d1",
   "metadata": {
    "collapsed": false
   },
   "outputs": [],
   "source": []
  }
 ],
 "metadata": {
  "kernelspec": {
   "display_name": "Python 3",
   "language": "python",
   "name": "python3"
  },
  "language_info": {
   "codemirror_mode": {
    "name": "ipython",
    "version": 2
   },
   "file_extension": ".py",
   "mimetype": "text/x-python",
   "name": "python",
   "nbconvert_exporter": "python",
   "pygments_lexer": "ipython2",
   "version": "2.7.6"
  }
 },
 "nbformat": 4,
 "nbformat_minor": 5
}
