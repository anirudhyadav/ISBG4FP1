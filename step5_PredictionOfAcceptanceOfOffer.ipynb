{
 "cells": [
  {
   "cell_type": "markdown",
   "metadata": {},
   "source": [
    "### Acceptance analysis based on the Salary offered where candidate is from a specific company"
   ]
  },
  {
   "cell_type": "code",
   "execution_count": 82,
   "metadata": {
    "ExecuteTime": {
     "end_time": "2024-01-12T15:35:17.221139Z",
     "start_time": "2024-01-12T15:35:17.215941Z"
    }
   },
   "outputs": [],
   "source": [
    "# Importing required libraries\n",
    "import pandas as pd"
   ]
  },
  {
   "cell_type": "markdown",
   "metadata": {},
   "source": [
    "### Reading the required datasets"
   ]
  },
  {
   "cell_type": "code",
   "execution_count": 83,
   "metadata": {
    "ExecuteTime": {
     "end_time": "2024-01-12T15:35:18.144498Z",
     "start_time": "2024-01-12T15:35:18.138526Z"
    }
   },
   "outputs": [],
   "source": [
    "# Reading files\n",
    "companyscorebase = pd.read_csv('AO_OnboardingPredictionCompanyData.csv')\n",
    "jdsalaryrangebase = pd.read_csv('AO_JDSalaryRange.csv')\n",
    "offerrulebase = pd.read_csv('AO_OfferRule.csv')"
   ]
  },
  {
   "cell_type": "markdown",
   "source": [
    "### Inputs for calculating the acceptance of offer score"
   ],
   "metadata": {
    "collapsed": false
   }
  },
  {
   "cell_type": "code",
   "execution_count": 93,
   "outputs": [],
   "source": [
    "# Get user input for the current company\n",
    "candidate_company = input(\"Enter the current Company name of candidate:  \")\n",
    "candidate_company = candidate_company.lower()\n",
    "# print(user_company.lower())\n",
    "# Get user input for the profile\n",
    "candidate_curr_salary = input(\"Enter the current salary of candidate: \")\n",
    "candidate_curr_salary = float(candidate_curr_salary)\n",
    "# print(user_curr_salary)"
   ],
   "metadata": {
    "collapsed": false,
    "ExecuteTime": {
     "end_time": "2024-01-12T15:38:10.543961Z",
     "start_time": "2024-01-12T15:38:02.845113Z"
    }
   }
  },
  {
   "cell_type": "markdown",
   "source": [
    "### Calculating the company score and its distance from the company where the candidate is being hired from"
   ],
   "metadata": {
    "collapsed": false
   }
  },
  {
   "cell_type": "code",
   "execution_count": 94,
   "outputs": [
    {
     "name": "stdout",
     "output_type": "stream",
     "text": [
      "65\n",
      "microsoft\n",
      "Mean Score: 54.64\n",
      "Standard Deviation Score: 30.32\n",
      "Your Company's Z-Score: 0.34\n",
      "microsoft's Z-Score: 0.70\n",
      "Absolute Difference in Z-Scores: 0.36\n"
     ]
    }
   ],
   "source": [
    "companyscorebase = pd.DataFrame(companyscorebase)\n",
    "\n",
    "# Your company's score and the target company\n",
    "your_company_score = companyscorebase.loc[companyscorebase['companyname']=='mycompany', 'companyscore'].values[0]\n",
    "print(your_company_score)\n",
    "target_company = candidate_company\n",
    "print(target_company)\n",
    "\n",
    "# Calculate mean and standard deviation\n",
    "mean_score = companyscorebase['companyscore'].mean()\n",
    "std_dev_score = companyscorebase['companyscore'].std()\n",
    "\n",
    "# Calculate z-score for your company and the target company\n",
    "z_score_your_company = (your_company_score - mean_score) / std_dev_score\n",
    "z_score_target_company = (companyscorebase[companyscorebase['companyname'] == target_company]['companyscore'].values[0] - mean_score) / std_dev_score\n",
    "\n",
    "# Display results\n",
    "print(f\"Mean Score: {mean_score:.2f}\")\n",
    "print(f\"Standard Deviation Score: {std_dev_score:.2f}\")\n",
    "print(f\"Your Company's Z-Score: {z_score_your_company:.2f}\")\n",
    "print(f\"{target_company}'s Z-Score: {z_score_target_company:.2f}\")\n",
    "\n",
    "# Calculate the absolute difference in z-scores\n",
    "z_score_difference = abs(z_score_your_company - z_score_target_company)\n",
    "print(f\"Absolute Difference in Z-Scores: {z_score_difference:.2f}\")"
   ],
   "metadata": {
    "collapsed": false,
    "ExecuteTime": {
     "end_time": "2024-01-12T15:38:15.024958Z",
     "start_time": "2024-01-12T15:38:15.021874Z"
    }
   }
  },
  {
   "cell_type": "markdown",
   "source": [
    "### Based on above absolute difference in Z-Score, taking the salary multiplier from offer rule"
   ],
   "metadata": {
    "collapsed": false
   }
  },
  {
   "cell_type": "code",
   "execution_count": 95,
   "outputs": [
    {
     "name": "stdout",
     "output_type": "stream",
     "text": [
      "   minabsscorediff  maxabsscorediff  multiplier\n",
      "0               20               30         1.6\n",
      "1               30               40         1.5\n",
      "2               40               50         1.4\n",
      "3               50               60         1.3\n",
      "4               60               70         1.3\n",
      "5               70               80         1.3\n",
      "6               80              100         1.3\n"
     ]
    }
   ],
   "source": [
    "print(offerrulebase)\n",
    "\n",
    "salary_multiplier = offerrulebase[\n",
    "    (offerrulebase['minabsscorediff'] <= z_score_difference*100) & \n",
    "    (offerrulebase['maxabsscorediff'] <= z_score_difference*100)\n",
    "]['multiplier'].values[0]\n",
    "\n",
    "candidate_new_salary = candidate_curr_salary*salary_multiplier"
   ],
   "metadata": {
    "collapsed": false,
    "ExecuteTime": {
     "end_time": "2024-01-12T15:38:15.377628Z",
     "start_time": "2024-01-12T15:38:15.374091Z"
    }
   }
  },
  {
   "cell_type": "markdown",
   "source": [
    "### Reply to HR based on input values"
   ],
   "metadata": {
    "collapsed": false
   }
  },
  {
   "cell_type": "code",
   "execution_count": 96,
   "outputs": [
    {
     "name": "stdout",
     "output_type": "stream",
     "text": [
      "As requested by you if the candidate is from : microsoft\n",
      "And Candidate's current salary is : 45.0\n",
      "To make sure that candidate to accept offer is you need to provide : 72.0 as new salary\n"
     ]
    }
   ],
   "source": [
    "print(f\"As requested by you if the candidate is from : {candidate_company}\")\n",
    "print(f\"And Candidate's current salary is : {candidate_curr_salary}\")\n",
    "print(f\"To make sure that candidate to accept offer is you need to provide : {candidate_new_salary} as new salary\")\n"
   ],
   "metadata": {
    "collapsed": false,
    "ExecuteTime": {
     "end_time": "2024-01-12T15:38:16.521397Z",
     "start_time": "2024-01-12T15:38:16.516597Z"
    }
   }
  },
  {
   "cell_type": "code",
   "execution_count": null,
   "outputs": [],
   "source": [],
   "metadata": {
    "collapsed": false
   }
  }
 ],
 "metadata": {
  "kernelspec": {
   "display_name": "isb_core_ml",
   "language": "python",
   "name": "python3"
  },
  "language_info": {
   "codemirror_mode": {
    "name": "ipython",
    "version": 3
   },
   "file_extension": ".py",
   "mimetype": "text/x-python",
   "name": "python",
   "nbconvert_exporter": "python",
   "pygments_lexer": "ipython3",
   "version": "3.9.15"
  }
 },
 "nbformat": 4,
 "nbformat_minor": 2
}
