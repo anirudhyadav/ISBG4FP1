{
 "cells": [
  {
   "cell_type": "code",
   "execution_count": null,
   "id": "15f0b833-4958-465b-8f6f-2b2042a898b2",
   "metadata": {},
   "outputs": [],
   "source": [
    "import pandas as pd\n",
    "from pymongo import MongoClient"
   ]
  },
  {
   "cell_type": "markdown",
   "id": "fff9f4ce-7e7b-4d03-a38c-f482f7e2c8af",
   "metadata": {},
   "source": [
    "*****************\n",
    "Writing to DS Data to the mongodb\n",
    "*****************"
   ]
  },
  {
   "cell_type": "code",
   "execution_count": 13,
   "id": "fb5b60bf-6716-4ebb-a9c5-95a8b5c26a68",
   "metadata": {},
   "outputs": [],
   "source": [
    "# Assuming df is your DataFrame\n",
    "techstack_list_DataScientist_w = pd.read_csv('/Users/anirudhyadav/Documents/isb/Term2/Assignments/FP1/ISBG4FP1/JD-Data_DataScientist.csv')\n",
    "\n",
    "# Convert the DataFrame to a dictionary\n",
    "data_dict = techstack_list_DataScientist_w.to_dict(orient='records')\n",
    "# print(data_dict)\n",
    "# # Set up connection to MongoDB\n",
    "client = MongoClient('mongodb://localhost:27017/')  # Replace with your MongoDB connection string\n",
    "db = client['FP1']  # Replace with your database name\n",
    "collection = db['jddataskills']  # Replace with your collection name\n",
    "\n",
    "# # Insert the data into MongoDB\n",
    "collection.insert_many(data_dict)\n",
    "\n",
    "# # Close the MongoDB connection\n",
    "client.close()"
   ]
  },
  {
   "cell_type": "markdown",
   "id": "10cc604b-81cb-4327-b47d-f6c896bb078e",
   "metadata": {},
   "source": [
    "*****************\n",
    "Writing to DevOps Data to the mongodb\n",
    "*****************"
   ]
  },
  {
   "cell_type": "code",
   "execution_count": 14,
   "id": "4fcc5002-ee33-4381-a9d1-d14bce46b5d1",
   "metadata": {},
   "outputs": [],
   "source": [
    "# Assuming df is your DataFrame\n",
    "techstack_list_DevOps_w = pd.read_csv('/Users/anirudhyadav/Documents/isb/Term2/Assignments/FP1/ISBG4FP1/JD-Data.csv')\n",
    "\n",
    "# Convert the DataFrame to a dictionary\n",
    "data_dict_DevOps = techstack_list_DevOps_w.to_dict(orient='records')\n",
    "# print(data_dict_DevOps)\n",
    "# # Set up connection to MongoDB\n",
    "client = MongoClient('mongodb://localhost:27017/')  # Replace with your MongoDB connection string\n",
    "db = client['FP1']  # Replace with your database name\n",
    "collection = db['jddataskills']  # Replace with your collection name\n",
    "\n",
    "# # Insert the data into MongoDB\n",
    "collection.insert_many(data_dict_DevOps)\n",
    "\n",
    "# # Close the MongoDB connection\n",
    "client.close()"
   ]
  },
  {
   "cell_type": "code",
   "execution_count": null,
   "id": "9372df9b-c9a2-435f-be75-ee5ce749bdf3",
   "metadata": {},
   "outputs": [],
   "source": []
  }
 ],
 "metadata": {
  "kernelspec": {
   "display_name": "Python 3",
   "language": "python",
   "name": "python3"
  },
  "language_info": {
   "codemirror_mode": {
    "name": "ipython",
    "version": 3
   },
   "file_extension": ".py",
   "mimetype": "text/x-python",
   "name": "python",
   "nbconvert_exporter": "python",
   "pygments_lexer": "ipython3",
   "version": "3.9.18"
  }
 },
 "nbformat": 4,
 "nbformat_minor": 5
}
