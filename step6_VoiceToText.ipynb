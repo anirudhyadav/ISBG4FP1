{
 "cells": [
  {
   "cell_type": "code",
   "outputs": [],
   "source": [
    "import speech_recognition as sr"
   ],
   "metadata": {
    "collapsed": false,
    "ExecuteTime": {
     "end_time": "2024-02-29T09:43:30.445443Z",
     "start_time": "2024-02-29T09:43:30.395032Z"
    }
   },
   "id": "97f11b497be97351",
   "execution_count": 1
  },
  {
   "cell_type": "code",
   "outputs": [
    {
     "name": "stdout",
     "output_type": "stream",
     "text": [
      "Please say something\n",
      "Recognizing...\n",
      "You said: my name is Anirudh\n"
     ]
    }
   ],
   "source": [
    "import speech_recognition as sr\n",
    "\n",
    "# Initialize recognizer class (for recognizing the speech)\n",
    "recognizer = sr.Recognizer()\n",
    "\n",
    "# Use the microphone as source for input.\n",
    "with sr.Microphone() as source:\n",
    "    print(\"Please say something\")\n",
    "    # Listening for the user's input\n",
    "    audio_data = recognizer.listen(source)\n",
    "    print(\"Recognizing...\")\n",
    "    try:\n",
    "        # Using Google Web Speech API to recognize audio\n",
    "        text = recognizer.recognize_google(audio_data)\n",
    "        print(\"You said: {}\".format(text))\n",
    "    except sr.UnknownValueError:\n",
    "        print(\"Google Web Speech API could not understand audio\")\n",
    "    except sr.RequestError as e:\n",
    "        print(\"Could not request results from Google Web Speech API; {0}\".format(e))\n"
   ],
   "metadata": {
    "collapsed": false,
    "ExecuteTime": {
     "end_time": "2024-02-29T09:43:47.389426Z",
     "start_time": "2024-02-29T09:43:32.401828Z"
    }
   },
   "id": "765f353c7508b189",
   "execution_count": 2
  },
  {
   "cell_type": "code",
   "outputs": [
    {
     "name": "stdout",
     "output_type": "stream",
     "text": [
      "Please say something...\n",
      "Recognizing...\n",
      "You said: my name is Anirudh and how are you\n"
     ]
    }
   ],
   "source": [
    "import speech_recognition as sr\n",
    "\n",
    "# Initialize the recognizer\n",
    "recognizer = sr.Recognizer()\n",
    "\n",
    "def recognize_speech_from_mic(recognizer, language='en-US'):\n",
    "    # Use the microphone as source for input\n",
    "    with sr.Microphone() as source:\n",
    "        print(\"Please say something...\")\n",
    "        recognizer.adjust_for_ambient_noise(source)  # Adjust for ambient noise\n",
    "        audio_data = recognizer.listen(source)\n",
    "        print(\"Recognizing...\")\n",
    "\n",
    "        # Try to recognize the speech using Google Web Speech API\n",
    "        try:\n",
    "            text = recognizer.recognize_google(audio_data, language=language)\n",
    "            print(\"You said: {}\".format(text))\n",
    "            return True, text\n",
    "        except sr.UnknownValueError:\n",
    "            print(\"Could not understand the audio.\")\n",
    "            return False, None\n",
    "        except sr.RequestError as e:\n",
    "            print(f\"Could not request results; {e}\")\n",
    "            return False, None\n",
    "\n",
    "def main():\n",
    "    # Set the language\n",
    "    language = 'en-US'  # For example, 'es-ES' for Spanish, 'fr-FR' for French\n",
    "\n",
    "    try_again = True\n",
    "    while try_again:\n",
    "        success, text = recognize_speech_from_mic(recognizer, language)\n",
    "        \n",
    "        if success:\n",
    "            # Optionally, save the recognized text to a file\n",
    "            with open(\"recognized_text.txt\", \"w\") as file:\n",
    "                file.write(text)\n",
    "            \n",
    "            try_again = False  # End the loop if recognition was successful\n",
    "        else:\n",
    "            response = input(\"Try again? (yes/no): \").lower()\n",
    "            if response != 'yes':\n",
    "                try_again = False\n",
    "\n",
    "if __name__ == \"__main__\":\n",
    "    main()\n"
   ],
   "metadata": {
    "collapsed": false,
    "ExecuteTime": {
     "end_time": "2024-02-29T09:44:22.694009Z",
     "start_time": "2024-02-29T09:44:10.890199Z"
    }
   },
   "id": "3c9d3bc6ce82ae3c",
   "execution_count": 4
  },
  {
   "cell_type": "code",
   "outputs": [
    {
     "name": "stdout",
     "output_type": "stream",
     "text": [
      "Please say something...\n",
      "Recognizing...\n",
      "You said: who am I\n"
     ]
    }
   ],
   "source": [
    "import speech_recognition as sr\n",
    "\n",
    "# Initialize the recognizer\n",
    "recognizer = sr.Recognizer()\n",
    "\n",
    "def recognize_speech_from_mic(recognizer, language='en-US'):\n",
    "    # Use the microphone as source for input\n",
    "    with sr.Microphone() as source:\n",
    "        print(\"Please say something...\")\n",
    "        recognizer.adjust_for_ambient_noise(source)  # Adjust for ambient noise\n",
    "        audio_data = recognizer.listen(source)\n",
    "        print(\"Recognizing...\")\n",
    "\n",
    "        # Save the audio data to a WAV file\n",
    "        with open(\"recorded_audio.wav\", \"wb\") as f:\n",
    "            f.write(audio_data.get_wav_data())\n",
    "\n",
    "        # Try to recognize the speech using Google Web Speech API\n",
    "        try:\n",
    "            text = recognizer.recognize_google(audio_data, language=language)\n",
    "            print(\"You said: {}\".format(text))\n",
    "            return True, text\n",
    "        except sr.UnknownValueError:\n",
    "            print(\"Could not understand the audio.\")\n",
    "            return False, None\n",
    "        except sr.RequestError as e:\n",
    "            print(f\"Could not request results; {e}\")\n",
    "            return False, None\n",
    "\n",
    "def main():\n",
    "    # Set the language\n",
    "    language = 'en-US'  # For example, 'es-ES' for Spanish\n",
    "\n",
    "    try_again = True\n",
    "    while try_again:\n",
    "        success, text = recognize_speech_from_mic(recognizer, language)\n",
    "        \n",
    "        if success:\n",
    "            # Optionally, save the recognized text to a file\n",
    "            with open(\"recognized_text.txt\", \"w\") as file:\n",
    "                file.write(text)\n",
    "            \n",
    "            try_again = False  # End the loop if recognition was successful\n",
    "        else:\n",
    "            response = input(\"Try again? (yes/no): \").lower()\n",
    "            if response != 'yes':\n",
    "                try_again = False\n",
    "\n",
    "if __name__ == \"__main__\":\n",
    "    main()\n"
   ],
   "metadata": {
    "collapsed": false,
    "ExecuteTime": {
     "end_time": "2024-03-12T06:57:09.950401Z",
     "start_time": "2024-03-12T06:57:02.543804Z"
    }
   },
   "id": "534a55b04811dc32",
   "execution_count": 1
  },
  {
   "cell_type": "code",
   "outputs": [],
   "source": [],
   "metadata": {
    "collapsed": false
   },
   "id": "41c6c91b0fe7297b"
  }
 ],
 "metadata": {
  "kernelspec": {
   "display_name": "Python 3",
   "language": "python",
   "name": "python3"
  },
  "language_info": {
   "codemirror_mode": {
    "name": "ipython",
    "version": 2
   },
   "file_extension": ".py",
   "mimetype": "text/x-python",
   "name": "python",
   "nbconvert_exporter": "python",
   "pygments_lexer": "ipython2",
   "version": "2.7.6"
  }
 },
 "nbformat": 4,
 "nbformat_minor": 5
}
