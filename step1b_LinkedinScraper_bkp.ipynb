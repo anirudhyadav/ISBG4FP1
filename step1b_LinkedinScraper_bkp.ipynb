{
 "cells": [
  {
   "cell_type": "code",
   "execution_count": 3,
   "id": "3242fc11",
   "metadata": {
    "ExecuteTime": {
     "end_time": "2024-01-14T02:58:58.964972Z",
     "start_time": "2024-01-14T02:58:58.947645Z"
    }
   },
   "outputs": [
    {
     "ename": "ModuleNotFoundError",
     "evalue": "No module named 'selenium'",
     "output_type": "error",
     "traceback": [
      "\u001b[0;31m---------------------------------------------------------------------------\u001b[0m",
      "\u001b[0;31mModuleNotFoundError\u001b[0m                       Traceback (most recent call last)",
      "Cell \u001b[0;32mIn[3], line 2\u001b[0m\n\u001b[1;32m      1\u001b[0m \u001b[38;5;28;01mfrom\u001b[39;00m \u001b[38;5;21;01mtime\u001b[39;00m \u001b[38;5;28;01mimport\u001b[39;00m sleep\n\u001b[0;32m----> 2\u001b[0m \u001b[38;5;28;01mfrom\u001b[39;00m \u001b[38;5;21;01mselenium\u001b[39;00m \u001b[38;5;28;01mimport\u001b[39;00m webdriver\n\u001b[1;32m      3\u001b[0m \u001b[38;5;28;01mfrom\u001b[39;00m \u001b[38;5;21;01mselenium\u001b[39;00m\u001b[38;5;21;01m.\u001b[39;00m\u001b[38;5;21;01mwebdriver\u001b[39;00m\u001b[38;5;21;01m.\u001b[39;00m\u001b[38;5;21;01mcommon\u001b[39;00m\u001b[38;5;21;01m.\u001b[39;00m\u001b[38;5;21;01mkeys\u001b[39;00m \u001b[38;5;28;01mimport\u001b[39;00m Keys\n\u001b[1;32m      4\u001b[0m \u001b[38;5;28;01mfrom\u001b[39;00m \u001b[38;5;21;01mselenium\u001b[39;00m\u001b[38;5;21;01m.\u001b[39;00m\u001b[38;5;21;01mwebdriver\u001b[39;00m\u001b[38;5;21;01m.\u001b[39;00m\u001b[38;5;21;01mcommon\u001b[39;00m\u001b[38;5;21;01m.\u001b[39;00m\u001b[38;5;21;01mby\u001b[39;00m \u001b[38;5;28;01mimport\u001b[39;00m By\n",
      "\u001b[0;31mModuleNotFoundError\u001b[0m: No module named 'selenium'"
     ]
    }
   ],
   "source": [
    "from time import sleep\n",
    "from selenium import webdriver\n",
    "from selenium.webdriver.common.keys import Keys\n",
    "from selenium.webdriver.common.by import By\n",
    "from selenium.webdriver.support.ui import WebDriverWait\n",
    "from selenium.webdriver.support import expected_conditions as EC\n",
    "import getpass\n",
    "import requests\n",
    "import re\n",
    "import pandas as pd\n",
    "from bs4 import BeautifulSoup\n",
    "import requests\n",
    "import selenium\n",
    "from selenium import webdriver\n",
    "from selenium.webdriver.chrome.service import Service as ChromeService\n",
    "# brew install chromedriver \n",
    "\n",
    "from selenium import webdriver\n",
    "from selenium.webdriver.common.keys import Keys\n",
    "from selenium.webdriver.common.by import By\n",
    "import time\n",
    "import re\n",
    "from selenium.webdriver.support import expected_conditions as EC\n",
    "from selenium.webdriver.support.ui import WebDriverWait\n",
    "\n",
    "# Provide the correct path to your chromedriver.exe\n",
    "# chrome_driver_path = r\"C:\\Users\\sumit\\anaconda4\\Lib\\site-packages\\selenium\\webdriver\\chromedriver.exe\"\n",
    "\n",
    "# chrome_options = webdriver.ChromeOptions()\n",
    "# chrome_options.add_argument(f\"webdriver.chrome.driver={chrome_driver_path}\")\n",
    "\n",
    "# Initialize the WebDriver\n",
    "driver = webdriver.Chrome()\n",
    "driver.get('https://www.linkedin.com/')\n",
    "\n",
    "# Wait for the page to load\n",
    "sleep(10)\n",
    "# Wait for the username and password fields to be present\n",
    "username = WebDriverWait(driver, 10).until(\n",
    "    EC.presence_of_element_located((By.ID, 'session_key'))\n",
    ")\n",
    "password = WebDriverWait(driver, 10).until(\n",
    "    EC.presence_of_element_located((By.ID, 'session_password'))\n",
    ")\n",
    "\n",
    "\n",
    "\n",
    "# Input your login credentials\n",
    "username.send_keys(\"abc@gmail.com\")\n",
    "password.send_keys(\"************\") #Need To give password here \n",
    "\n",
    "\n",
    "# Submit the login form\n",
    "password.send_keys(Keys.RETURN)\n",
    "\n",
    "# Wait for the login to complete\n",
    "sleep(50)\n",
    "\n",
    "\n",
    "\n",
    "# You are now logged in, you can add further actions here\n",
    "response=driver.get('https://www.linkedin.com/in/abc/details/skills/')\n",
    "response_content=driver.page_source\n",
    "soup = BeautifulSoup(response_content, 'html.parser')\n",
    "cand_name1 = soup.find('h1', class_='text-heading-xlarge inline t-24 v-align-middle break-words').text\n",
    "print(cand_name1)\n",
    "cand_location = soup.find('span', class_='text-body-small inline t-black--light break-words').text.strip()\n",
    "print(cand_location)\n",
    "info_element = soup.find('div', {'class': 'text-body-medium'}).get_text(strip=True)\n",
    "print(info_element)\n",
    "\n",
    "\n",
    "\n",
    "# Close the browser\n",
    "driver.quit()\n"
   ]
  },
  {
   "cell_type": "code",
   "execution_count": null,
   "id": "11731105",
   "metadata": {},
   "outputs": [],
   "source": [
    "page_content = driver.page_source\n",
    "print(page_content)"
   ]
  },
  {
   "cell_type": "code",
   "execution_count": null,
   "id": "f0a6e705",
   "metadata": {},
   "outputs": [],
   "source": [
    "from bs4 import BeautifulSoup\n",
    "soup = BeautifulSoup(page_content, 'html.parser')\n",
    "soup"
   ]
  },
  {
   "cell_type": "code",
   "execution_count": null,
   "id": "73cab80f",
   "metadata": {},
   "outputs": [],
   "source": [
    "result = soup.find(id=\"mynetwork\")\n",
    "result.prettify()"
   ]
  },
  {
   "cell_type": "code",
   "execution_count": null,
   "id": "2921fee0",
   "metadata": {},
   "outputs": [],
   "source": [
    "profile_records = result.find('li', class_='mn-connection-card artdeco-list')\n",
    "profile_records_link = profile_records.find('a', class_='ember-view mn-connection-card__link')['href']\n",
    "profile_records_link = 'https://www.linkedin.com' + profile_records_link  # Added '+' for string concatenation\n",
    "profile_records_link"
   ]
  },
  {
   "cell_type": "code",
   "execution_count": null,
   "id": "74d7b6e7",
   "metadata": {},
   "outputs": [],
   "source": [
    "profile_records = result.find_all('li', class_='mn-connection-card artdeco-list')\n",
    "\n",
    "# Check if there are any profile records\n",
    "if profile_records:\n",
    "    #empty list to store profile record links\n",
    "    profile_records_links = []\n",
    "    \n",
    "    # Iterate over each profile record\n",
    "    for record in profile_records:\n",
    "        link_element = record.find('a', class_='ember-view mn-connection-card__link')\n",
    "        if link_element:\n",
    "             profile_records_links.append('https://www.linkedin.com' + link_element['href'])\n",
    "    for url in profile_records_links:\n",
    "        print(url)\n",
    "else:\n",
    "    print(\"No profile records found.\")"
   ]
  },
  {
   "cell_type": "code",
   "execution_count": null,
   "id": "a483e840",
   "metadata": {},
   "outputs": [],
   "source": [
    "response=driver.get('https://www.linkedin.com/in/abc/details/skills/')\n",
    "response_content=driver.page_source\n",
    "soup = BeautifulSoup(response_content, 'html.parser')\n",
    "cand_name1 = soup.find('h1', class_='text-heading-xlarge inline t-24 v-align-middle break-words').text\n",
    "print(cand_name1)\n",
    "cand_location = soup.find('span', class_='text-body-small inline t-black--light break-words').text.strip()\n",
    "print(cand_location)\n",
    "info_element = soup.find('div', {'class': 'text-body-medium'}).get_text(strip=True)\n",
    "print(info_element)"
   ]
  },
  {
   "cell_type": "code",
   "execution_count": null,
   "id": "2be8ddca",
   "metadata": {},
   "outputs": [],
   "source": [
    "response=driver.get('https://www.linkedin.com/in/abc/details/skills/')\n",
    "response_content=driver.page_source\n",
    "soup = BeautifulSoup(response_content, 'html.parser')\n",
    "soup"
   ]
  },
  {
   "cell_type": "code",
   "execution_count": null,
   "id": "d4a0f7ba",
   "metadata": {},
   "outputs": [],
   "source": [
    "import csv\n",
    "import requests\n",
    "from bs4 import BeautifulSoup\n",
    "\n",
    "file = open('linkedin-jobs.csv', 'a')\n",
    "writer = csv.writer(file)\n",
    "writer.writerow(['Title', 'Company', 'Location', 'Apply'])\n",
    "\n",
    "def linkedin_scraper(webpage, page_number):\n",
    "    next_page = webpage + str(page_number)\n",
    "    print(str(next_page))\n",
    "    response = requests.get(str(next_page))\n",
    "    soup = BeautifulSoup(response.content,'html.parser')\n",
    "\n",
    "    jobs = soup.find_all('div', class_='base-card relative w-full hover:no-underline focus:no-underline base-card--link base-search-card base-search-card--link job-search-card')\n",
    "    for job in jobs:\n",
    "        job_title = job.find('h3', class_='base-search-card__title').text.strip()\n",
    "        job_company = job.find('h4', class_='base-search-card__subtitle').text.strip()\n",
    "        job_location = job.find('span', class_='job-search-card__location').text.strip()\n",
    "        job_link = job.find('a', class_='base-card__full-link')['href']\n",
    "\n",
    "        writer.writerow([job_title.encode('utf-8'), job_company.encode('utf-8'), job_location.encode('utf-8'),\n",
    "                          job_link.encode('utf-8')])\n",
    "\n",
    "    print('Data updated')\n",
    "\n",
    "    if page_number < 25:\n",
    "        page_number = page_number + 25\n",
    "        linkedin_scraper(webpage, page_number)\n",
    "    else:\n",
    "        file.close()\n",
    "        print('File closed')\n",
    "\n",
    "#linkedin_scraper('https://www.linkedin.com/jobs-guest/jobs/api/seeMoreJobPostings/search?keywords=Product%20Management&location=San%20Francisco%20Bay%20Area&geoId=90000084&trk=public_jobs_jobs-search-bar_search-submit&position=1&pageNum=0&start=', 0)\n",
    "linkedin_scraper('https://www.linkedin.com/feed/?trk=homepage-basic_sign-in-submit',0)\n"
   ]
  },
  {
   "cell_type": "code",
   "execution_count": null,
   "id": "fa10a241",
   "metadata": {},
   "outputs": [],
   "source": []
  }
 ],
 "metadata": {
  "kernelspec": {
   "display_name": "Python 3 (ipykernel)",
   "language": "python",
   "name": "python3"
  },
  "language_info": {
   "codemirror_mode": {
    "name": "ipython",
    "version": 3
   },
   "file_extension": ".py",
   "mimetype": "text/x-python",
   "name": "python",
   "nbconvert_exporter": "python",
   "pygments_lexer": "ipython3",
   "version": "3.9.15"
  }
 },
 "nbformat": 4,
 "nbformat_minor": 5
}
